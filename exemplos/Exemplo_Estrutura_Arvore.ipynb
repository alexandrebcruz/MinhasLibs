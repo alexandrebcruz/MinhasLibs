{
 "cells": [
  {
   "cell_type": "markdown",
   "id": "a6fc5b81-6962-496d-8011-93da43149604",
   "metadata": {},
   "source": [
    "# Instalações"
   ]
  },
  {
   "cell_type": "code",
   "execution_count": 44,
   "id": "3d323b04-9a1b-48bd-9b8e-72fd8128b57d",
   "metadata": {
    "scrolled": true
   },
   "outputs": [],
   "source": [
    "%%sh\n",
    "wget -q https://gitlab.com/api/v4/projects/4207231/packages/generic/graphviz-releases/9.0.0/graphviz-9.0.0.tar.gz\n",
    "tar xzf graphviz-9.0.0.tar.gz\n",
    "cd graphviz-9.0.0 && make > /dev/null 2>&1 && make install > /dev/null 2>&1"
   ]
  },
  {
   "cell_type": "code",
   "execution_count": 305,
   "id": "fbcef26b-1aef-41a7-9e94-7ad4c7baeba1",
   "metadata": {},
   "outputs": [
    {
     "name": "stdout",
     "output_type": "stream",
     "text": [
      "Requirement already satisfied: anytree in /usr/local/lib/python3.11/dist-packages (2.12.0)\n",
      "Requirement already satisfied: six in /usr/lib/python3/dist-packages (from anytree) (1.16.0)\n"
     ]
    },
    {
     "name": "stderr",
     "output_type": "stream",
     "text": [
      "\u001b[33mWARNING: Running pip as the 'root' user can result in broken permissions and conflicting behaviour with the system package manager. It is recommended to use a virtual environment instead: https://pip.pypa.io/warnings/venv\u001b[0m\u001b[33m\n",
      "\u001b[0m\n",
      "\u001b[1m[\u001b[0m\u001b[34;49mnotice\u001b[0m\u001b[1;39;49m]\u001b[0m\u001b[39;49m A new release of pip is available: \u001b[0m\u001b[31;49m23.2.1\u001b[0m\u001b[39;49m -> \u001b[0m\u001b[32;49m23.3.1\u001b[0m\n",
      "\u001b[1m[\u001b[0m\u001b[34;49mnotice\u001b[0m\u001b[1;39;49m]\u001b[0m\u001b[39;49m To update, run: \u001b[0m\u001b[32;49mpython3 -m pip install --upgrade pip\u001b[0m\n"
     ]
    },
    {
     "name": "stdout",
     "output_type": "stream",
     "text": [
      "Requirement already satisfied: pandas in /usr/local/lib/python3.11/dist-packages (2.1.3)\n",
      "Requirement already satisfied: numpy<2,>=1.23.2 in /usr/local/lib/python3.11/dist-packages (from pandas) (1.26.0)\n",
      "Requirement already satisfied: python-dateutil>=2.8.2 in /usr/local/lib/python3.11/dist-packages (from pandas) (2.8.2)\n",
      "Requirement already satisfied: pytz>=2020.1 in /usr/local/lib/python3.11/dist-packages (from pandas) (2023.3.post1)\n",
      "Requirement already satisfied: tzdata>=2022.1 in /usr/local/lib/python3.11/dist-packages (from pandas) (2023.3)\n",
      "Requirement already satisfied: six>=1.5 in /usr/lib/python3/dist-packages (from python-dateutil>=2.8.2->pandas) (1.16.0)\n"
     ]
    },
    {
     "name": "stderr",
     "output_type": "stream",
     "text": [
      "\u001b[33mWARNING: Running pip as the 'root' user can result in broken permissions and conflicting behaviour with the system package manager. It is recommended to use a virtual environment instead: https://pip.pypa.io/warnings/venv\u001b[0m\u001b[33m\n",
      "\u001b[0m\n",
      "\u001b[1m[\u001b[0m\u001b[34;49mnotice\u001b[0m\u001b[1;39;49m]\u001b[0m\u001b[39;49m A new release of pip is available: \u001b[0m\u001b[31;49m23.2.1\u001b[0m\u001b[39;49m -> \u001b[0m\u001b[32;49m23.3.1\u001b[0m\n",
      "\u001b[1m[\u001b[0m\u001b[34;49mnotice\u001b[0m\u001b[1;39;49m]\u001b[0m\u001b[39;49m To update, run: \u001b[0m\u001b[32;49mpython3 -m pip install --upgrade pip\u001b[0m\n"
     ]
    },
    {
     "name": "stdout",
     "output_type": "stream",
     "text": [
      "Requirement already satisfied: seaborn in /usr/local/lib/python3.11/dist-packages (0.13.0)\n",
      "Requirement already satisfied: numpy!=1.24.0,>=1.20 in /usr/local/lib/python3.11/dist-packages (from seaborn) (1.26.0)\n",
      "Requirement already satisfied: pandas>=1.2 in /usr/local/lib/python3.11/dist-packages (from seaborn) (2.1.3)\n",
      "Requirement already satisfied: matplotlib!=3.6.1,>=3.3 in /usr/local/lib/python3.11/dist-packages (from seaborn) (3.8.0)\n",
      "Requirement already satisfied: contourpy>=1.0.1 in /usr/local/lib/python3.11/dist-packages (from matplotlib!=3.6.1,>=3.3->seaborn) (1.1.1)\n",
      "Requirement already satisfied: cycler>=0.10 in /usr/local/lib/python3.11/dist-packages (from matplotlib!=3.6.1,>=3.3->seaborn) (0.11.0)\n",
      "Requirement already satisfied: fonttools>=4.22.0 in /usr/local/lib/python3.11/dist-packages (from matplotlib!=3.6.1,>=3.3->seaborn) (4.42.1)\n",
      "Requirement already satisfied: kiwisolver>=1.0.1 in /usr/local/lib/python3.11/dist-packages (from matplotlib!=3.6.1,>=3.3->seaborn) (1.4.5)\n",
      "Requirement already satisfied: packaging>=20.0 in /usr/local/lib/python3.11/dist-packages (from matplotlib!=3.6.1,>=3.3->seaborn) (23.1)\n",
      "Requirement already satisfied: pillow>=6.2.0 in /usr/local/lib/python3.11/dist-packages (from matplotlib!=3.6.1,>=3.3->seaborn) (10.0.1)\n",
      "Requirement already satisfied: pyparsing>=2.3.1 in /usr/lib/python3/dist-packages (from matplotlib!=3.6.1,>=3.3->seaborn) (2.4.7)\n",
      "Requirement already satisfied: python-dateutil>=2.7 in /usr/local/lib/python3.11/dist-packages (from matplotlib!=3.6.1,>=3.3->seaborn) (2.8.2)\n",
      "Requirement already satisfied: pytz>=2020.1 in /usr/local/lib/python3.11/dist-packages (from pandas>=1.2->seaborn) (2023.3.post1)\n",
      "Requirement already satisfied: tzdata>=2022.1 in /usr/local/lib/python3.11/dist-packages (from pandas>=1.2->seaborn) (2023.3)\n",
      "Requirement already satisfied: six>=1.5 in /usr/lib/python3/dist-packages (from python-dateutil>=2.7->matplotlib!=3.6.1,>=3.3->seaborn) (1.16.0)\n"
     ]
    },
    {
     "name": "stderr",
     "output_type": "stream",
     "text": [
      "\u001b[33mWARNING: Running pip as the 'root' user can result in broken permissions and conflicting behaviour with the system package manager. It is recommended to use a virtual environment instead: https://pip.pypa.io/warnings/venv\u001b[0m\u001b[33m\n",
      "\u001b[0m\n",
      "\u001b[1m[\u001b[0m\u001b[34;49mnotice\u001b[0m\u001b[1;39;49m]\u001b[0m\u001b[39;49m A new release of pip is available: \u001b[0m\u001b[31;49m23.2.1\u001b[0m\u001b[39;49m -> \u001b[0m\u001b[32;49m23.3.1\u001b[0m\n",
      "\u001b[1m[\u001b[0m\u001b[34;49mnotice\u001b[0m\u001b[1;39;49m]\u001b[0m\u001b[39;49m To update, run: \u001b[0m\u001b[32;49mpython3 -m pip install --upgrade pip\u001b[0m\n"
     ]
    }
   ],
   "source": [
    "%%sh\n",
    "pip install anytree\n",
    "pip install pandas\n",
    "pip install seaborn"
   ]
  },
  {
   "cell_type": "markdown",
   "id": "0cf3c9c5-282b-4ac9-b96d-162b4353e02d",
   "metadata": {},
   "source": [
    "# Import de Bibliotecas"
   ]
  },
  {
   "cell_type": "code",
   "execution_count": 3,
   "id": "62b3c9c2-7277-4dbc-acf9-bc7cee604cf9",
   "metadata": {},
   "outputs": [],
   "source": [
    "from anytree import AnyNode, RenderTree\n",
    "from anytree.importer import DictImporter\n",
    "from anytree.exporter import DotExporter\n",
    "\n",
    "import numpy as np\n",
    "import pandas as pd\n",
    "\n",
    "import seaborn as sns"
   ]
  },
  {
   "cell_type": "markdown",
   "id": "8dbe2399-f88c-48bf-9245-0a0be2f32a4c",
   "metadata": {},
   "source": [
    "# Construção de Exemplo"
   ]
  },
  {
   "cell_type": "code",
   "execution_count": 4,
   "id": "cc63b5b8-396c-4cc4-9583-0dbae826b32d",
   "metadata": {},
   "outputs": [],
   "source": [
    "df = pd.DataFrame(columns = ['Etapa', 'ClientId', 'RegistrationStatus'])"
   ]
  },
  {
   "cell_type": "code",
   "execution_count": 5,
   "id": "0a764865-4730-4441-a587-76fdac5168ef",
   "metadata": {},
   "outputs": [],
   "source": [
    "N = 113\n",
    "for i in range(1, N+1):\n",
    "    if df.shape[0] == 0:\n",
    "        id = 1\n",
    "    else:\n",
    "        id = df['ClientId'].max() + 1\n",
    "    df.loc[df.shape[0]] = [1, id, 'P1']\n",
    "    df.loc[df.shape[0]] = [2, id, 'P2']\n",
    "    df.loc[df.shape[0]] = [3, id, 'P3']\n",
    "    df.loc[df.shape[0]] = [4, id, 'DU']\n",
    "    df.loc[df.shape[0]] = [5, id, 'RCPOS']\n",
    "    df.loc[df.shape[0]] = [6, id, 'RC']\n",
    "    \n",
    "N = 7\n",
    "for i in range(1, N+1):\n",
    "    if df.shape[0] == 0:\n",
    "        id = 1\n",
    "    else:\n",
    "        id = df['ClientId'].max() + 1\n",
    "    df.loc[df.shape[0]] = [1, id, 'P1']\n",
    "    df.loc[df.shape[0]] = [2, id, 'P2']\n",
    "    df.loc[df.shape[0]] = [3, id, 'P3']\n",
    "    df.loc[df.shape[0]] = [4, id, 'DU']\n",
    "    df.loc[df.shape[0]] = [5, id, 'RCPOS']\n",
    "    df.loc[df.shape[0]] = [6, id, 'RN']\n",
    "\n",
    "N = 3\n",
    "for i in range(1, N+1):\n",
    "    if df.shape[0] == 0:\n",
    "        id = 1\n",
    "    else:\n",
    "        id = df['ClientId'].max() + 1\n",
    "    df.loc[df.shape[0]] = [1, id, 'P1']\n",
    "    df.loc[df.shape[0]] = [2, id, 'P2']\n",
    "    df.loc[df.shape[0]] = [3, id, 'P3']\n",
    "    df.loc[df.shape[0]] = [4, id, 'DU']\n",
    "    df.loc[df.shape[0]] = [5, id, 'RCPOS']\n",
    "    df.loc[df.shape[0]] = [6, id, 'AM']"
   ]
  },
  {
   "cell_type": "code",
   "execution_count": 6,
   "id": "bd139277-2b59-4b0c-aba2-a29a7ddef50b",
   "metadata": {},
   "outputs": [],
   "source": [
    "N = 74\n",
    "for i in range(1, N+1):\n",
    "    if df.shape[0] == 0:\n",
    "        id = 1\n",
    "    else:\n",
    "        id = df['ClientId'].max() + 1\n",
    "    df.loc[df.shape[0]] = [1, id, 'P1']\n",
    "    df.loc[df.shape[0]] = [2, id, 'P2']\n",
    "    df.loc[df.shape[0]] = [3, id, 'P3']\n",
    "    df.loc[df.shape[0]] = [4, id, 'DU']\n",
    "    df.loc[df.shape[0]] = [5, id, 'RCFOR']\n",
    "    df.loc[df.shape[0]] = [6, id, 'RC']\n",
    "    \n",
    "N = 10\n",
    "for i in range(1, N+1):\n",
    "    if df.shape[0] == 0:\n",
    "        id = 1\n",
    "    else:\n",
    "        id = df['ClientId'].max() + 1\n",
    "    df.loc[df.shape[0]] = [1, id, 'P1']\n",
    "    df.loc[df.shape[0]] = [2, id, 'P2']\n",
    "    df.loc[df.shape[0]] = [3, id, 'P3']\n",
    "    df.loc[df.shape[0]] = [4, id, 'DU']\n",
    "    df.loc[df.shape[0]] = [5, id, 'RCFOR']\n",
    "    df.loc[df.shape[0]] = [6, id, 'RN']\n",
    "\n",
    "N = 7\n",
    "for i in range(1, N+1):\n",
    "    if df.shape[0] == 0:\n",
    "        id = 1\n",
    "    else:\n",
    "        id = df['ClientId'].max() + 1\n",
    "    df.loc[df.shape[0]] = [1, id, 'P1']\n",
    "    df.loc[df.shape[0]] = [2, id, 'P2']\n",
    "    df.loc[df.shape[0]] = [3, id, 'P3']\n",
    "    df.loc[df.shape[0]] = [4, id, 'DU']\n",
    "    df.loc[df.shape[0]] = [5, id, 'RCFOR']\n",
    "    df.loc[df.shape[0]] = [6, id, 'AM']"
   ]
  },
  {
   "cell_type": "code",
   "execution_count": 7,
   "id": "d80c8536-6780-46b9-ba50-1343253a5186",
   "metadata": {},
   "outputs": [],
   "source": [
    "N = 35\n",
    "for i in range(1, N+1):\n",
    "    if df.shape[0] == 0:\n",
    "        id = 1\n",
    "    else:\n",
    "        id = df['ClientId'].max() + 1\n",
    "    df.loc[df.shape[0]] = [1, id, 'P1']\n",
    "    df.loc[df.shape[0]] = [2, id, 'P2']\n",
    "    df.loc[df.shape[0]] = [3, id, 'P3']\n",
    "    df.loc[df.shape[0]] = [4, id, 'DU']\n",
    "    df.loc[df.shape[0]] = [5, id, 'RCRES']\n",
    "    df.loc[df.shape[0]] = [6, id, 'RC']\n",
    "    \n",
    "N = 11\n",
    "for i in range(1, N+1):\n",
    "    if df.shape[0] == 0:\n",
    "        id = 1\n",
    "    else:\n",
    "        id = df['ClientId'].max() + 1\n",
    "    df.loc[df.shape[0]] = [1, id, 'P1']\n",
    "    df.loc[df.shape[0]] = [2, id, 'P2']\n",
    "    df.loc[df.shape[0]] = [3, id, 'P3']\n",
    "    df.loc[df.shape[0]] = [4, id, 'DU']\n",
    "    df.loc[df.shape[0]] = [5, id, 'RCRES']\n",
    "    df.loc[df.shape[0]] = [6, id, 'RN']\n",
    "\n",
    "N = 2\n",
    "for i in range(1, N+1):\n",
    "    if df.shape[0] == 0:\n",
    "        id = 1\n",
    "    else:\n",
    "        id = df['ClientId'].max() + 1\n",
    "    df.loc[df.shape[0]] = [1, id, 'P1']\n",
    "    df.loc[df.shape[0]] = [2, id, 'P2']\n",
    "    df.loc[df.shape[0]] = [3, id, 'P3']\n",
    "    df.loc[df.shape[0]] = [4, id, 'DU']\n",
    "    df.loc[df.shape[0]] = [5, id, 'RCRES']\n",
    "    df.loc[df.shape[0]] = [6, id, 'AM']"
   ]
  },
  {
   "cell_type": "code",
   "execution_count": 8,
   "id": "3020926d-7a1a-49d6-9c91-5f1f30e5f01b",
   "metadata": {},
   "outputs": [],
   "source": [
    "N = 27\n",
    "for i in range(1, N+1):\n",
    "    if df.shape[0] == 0:\n",
    "        id = 1\n",
    "    else:\n",
    "        id = df['ClientId'].max() + 1\n",
    "    df.loc[df.shape[0]] = [1, id, 'P1']\n",
    "    df.loc[df.shape[0]] = [2, id, 'P2']\n",
    "    df.loc[df.shape[0]] = [3, id, 'P3']\n",
    "    df.loc[df.shape[0]] = [4, id, 'DU']\n",
    "    df.loc[df.shape[0]] = [5, id, 'EA']\n",
    "    df.loc[df.shape[0]] = [6, id, 'RN']\n",
    "    \n",
    "N = 11\n",
    "for i in range(1, N+1):\n",
    "    if df.shape[0] == 0:\n",
    "        id = 1\n",
    "    else:\n",
    "        id = df['ClientId'].max() + 1\n",
    "    df.loc[df.shape[0]] = [1, id, 'P1']\n",
    "    df.loc[df.shape[0]] = [2, id, 'P2']\n",
    "    df.loc[df.shape[0]] = [3, id, 'P3']\n",
    "    df.loc[df.shape[0]] = [4, id, 'DU']\n",
    "    df.loc[df.shape[0]] = [5, id, 'EA']\n",
    "    df.loc[df.shape[0]] = [6, id, 'APD']\n",
    "    df.loc[df.shape[0]] = [7, id, 'RC']\n",
    "\n",
    "N = 5\n",
    "for i in range(1, N+1):\n",
    "    if df.shape[0] == 0:\n",
    "        id = 1\n",
    "    else:\n",
    "        id = df['ClientId'].max() + 1\n",
    "    df.loc[df.shape[0]] = [1, id, 'P1']\n",
    "    df.loc[df.shape[0]] = [2, id, 'P2']\n",
    "    df.loc[df.shape[0]] = [3, id, 'P3']\n",
    "    df.loc[df.shape[0]] = [4, id, 'DU']\n",
    "    df.loc[df.shape[0]] = [5, id, 'EA']\n",
    "    df.loc[df.shape[0]] = [6, id, 'AIC']\n",
    "    df.loc[df.shape[0]] = [7, id, 'APD']\n",
    "    df.loc[df.shape[0]] = [8, id, 'RC']\n",
    "\n",
    "N = 3\n",
    "for i in range(1, N+1):\n",
    "    if df.shape[0] == 0:\n",
    "        id = 1\n",
    "    else:\n",
    "        id = df['ClientId'].max() + 1\n",
    "    df.loc[df.shape[0]] = [1, id, 'P1']\n",
    "    df.loc[df.shape[0]] = [2, id, 'P2']\n",
    "    df.loc[df.shape[0]] = [3, id, 'P3']\n",
    "    df.loc[df.shape[0]] = [4, id, 'DU']\n",
    "    df.loc[df.shape[0]] = [5, id, 'EA']\n",
    "    df.loc[df.shape[0]] = [6, id, 'AIC']\n",
    "    df.loc[df.shape[0]] = [7, id, 'AM']"
   ]
  },
  {
   "cell_type": "code",
   "execution_count": 9,
   "id": "601074e9-40ce-4ce9-9734-baaf0bd374c5",
   "metadata": {},
   "outputs": [],
   "source": [
    "N = 30\n",
    "for i in range(1, N+1):\n",
    "    if df.shape[0] == 0:\n",
    "        id = 1\n",
    "    else:\n",
    "        id = df['ClientId'].max() + 1\n",
    "    df.loc[df.shape[0]] = [1, id, 'P1']\n",
    "    df.loc[df.shape[0]] = [2, id, 'P2']\n",
    "    df.loc[df.shape[0]] = [3, id, 'AM']"
   ]
  },
  {
   "cell_type": "code",
   "execution_count": 10,
   "id": "cbd9c32d-23ad-4332-8b50-2b1e2d0b1b3d",
   "metadata": {},
   "outputs": [],
   "source": [
    "#Trás as informação do final do fluxo para cada etapa do fluxo\n",
    "df_final = df.sort_values('Etapa', ascending = False).drop_duplicates(subset = 'ClientId')[['ClientId', 'RegistrationStatus']].copy()\n",
    "df_final = df_final.rename({'RegistrationStatus': 'RegistrationStatus_Final'}, axis = 1)\n",
    "df = pd.merge(df, df_final, how = 'left', on = 'ClientId')"
   ]
  },
  {
   "cell_type": "markdown",
   "id": "175d1882-537a-4b0c-aac1-cbebf6737633",
   "metadata": {},
   "source": [
    "# Criação da Árvore"
   ]
  },
  {
   "cell_type": "code",
   "execution_count": 11,
   "id": "b74a1731-33a9-4a2a-bd6a-0fcb1d971bef",
   "metadata": {},
   "outputs": [],
   "source": [
    "def f_node(x):\n",
    "    d = {}\n",
    "    d['Qtd'] = x.shape[0]\n",
    "    d['RC'] = (x['RegistrationStatus_Final'] == 'RC').sum()\n",
    "    d['RN'] = (x['RegistrationStatus_Final'] == 'RN').sum()\n",
    "    d['AM'] = (x['RegistrationStatus_Final'] == 'AM').sum()\n",
    "    return pd.Series(d)\n",
    "\n",
    "def cria_arvore(df):\n",
    "    arvore = []\n",
    "    etapa = df['Etapa'].min()\n",
    "    df_etapa = df[df['Etapa'] == etapa]\n",
    "    df_etapa_agg = df_etapa.groupby('RegistrationStatus').apply(lambda x: f_node(x))\n",
    "    for ind, row in df_etapa_agg.iterrows():\n",
    "        d = {'name': ind}\n",
    "        d.update(row.to_dict())\n",
    "        lista_clientid = list(df_etapa[df_etapa['RegistrationStatus'] == ind]['ClientId'].unique())\n",
    "        df_next = df[(df['Etapa'] > etapa) & df['ClientId'].isin(lista_clientid)]\n",
    "        if df_next.shape[0] > 0:\n",
    "            arvore_next = cria_arvore(df_next)\n",
    "            d.update({'children': arvore_next})\n",
    "        arvore.append(d)\n",
    "    return arvore"
   ]
  },
  {
   "cell_type": "code",
   "execution_count": 12,
   "id": "56fa9492-e90f-4f21-952c-789a1821dd75",
   "metadata": {},
   "outputs": [],
   "source": [
    "arvore_dict = cria_arvore(df)[0]"
   ]
  },
  {
   "cell_type": "code",
   "execution_count": 13,
   "id": "9f13e15a-a0d9-41f5-98b8-efe967cbfb62",
   "metadata": {},
   "outputs": [],
   "source": [
    "arvore = DictImporter().import_(arvore_dict)"
   ]
  },
  {
   "cell_type": "markdown",
   "id": "c18b0553-5418-4e1a-b889-97967a862183",
   "metadata": {},
   "source": [
    "# Print"
   ]
  },
  {
   "cell_type": "code",
   "execution_count": 14,
   "id": "39edb202-53c5-4bcd-aefa-7a22f312c6f0",
   "metadata": {},
   "outputs": [
    {
     "name": "stdout",
     "output_type": "stream",
     "text": [
      "AnyNode(AM=45, Qtd=338, RC=238, RN=55, name='P1')\n",
      "└── AnyNode(AM=45, Qtd=338, RC=238, RN=55, name='P2')\n",
      "    ├── AnyNode(AM=30, Qtd=30, RC=0, RN=0, name='AM')\n",
      "    └── AnyNode(AM=15, Qtd=308, RC=238, RN=55, name='P3')\n",
      "        └── AnyNode(AM=15, Qtd=308, RC=238, RN=55, name='DU')\n",
      "            ├── AnyNode(AM=3, Qtd=46, RC=16, RN=27, name='EA')\n",
      "            │   ├── AnyNode(AM=3, Qtd=8, RC=5, RN=0, name='AIC')\n",
      "            │   │   ├── AnyNode(AM=3, Qtd=3, RC=0, RN=0, name='AM')\n",
      "            │   │   └── AnyNode(AM=0, Qtd=5, RC=5, RN=0, name='APD')\n",
      "            │   │       └── AnyNode(AM=0, Qtd=5, RC=5, RN=0, name='RC')\n",
      "            │   ├── AnyNode(AM=0, Qtd=11, RC=11, RN=0, name='APD')\n",
      "            │   │   └── AnyNode(AM=0, Qtd=11, RC=11, RN=0, name='RC')\n",
      "            │   └── AnyNode(AM=0, Qtd=27, RC=0, RN=27, name='RN')\n",
      "            ├── AnyNode(AM=7, Qtd=91, RC=74, RN=10, name='RCFOR')\n",
      "            │   ├── AnyNode(AM=7, Qtd=7, RC=0, RN=0, name='AM')\n",
      "            │   ├── AnyNode(AM=0, Qtd=74, RC=74, RN=0, name='RC')\n",
      "            │   └── AnyNode(AM=0, Qtd=10, RC=0, RN=10, name='RN')\n",
      "            ├── AnyNode(AM=3, Qtd=123, RC=113, RN=7, name='RCPOS')\n",
      "            │   ├── AnyNode(AM=3, Qtd=3, RC=0, RN=0, name='AM')\n",
      "            │   ├── AnyNode(AM=0, Qtd=113, RC=113, RN=0, name='RC')\n",
      "            │   └── AnyNode(AM=0, Qtd=7, RC=0, RN=7, name='RN')\n",
      "            └── AnyNode(AM=2, Qtd=48, RC=35, RN=11, name='RCRES')\n",
      "                ├── AnyNode(AM=2, Qtd=2, RC=0, RN=0, name='AM')\n",
      "                ├── AnyNode(AM=0, Qtd=35, RC=35, RN=0, name='RC')\n",
      "                └── AnyNode(AM=0, Qtd=11, RC=0, RN=11, name='RN')\n"
     ]
    }
   ],
   "source": [
    "print(RenderTree(arvore))"
   ]
  },
  {
   "cell_type": "code",
   "execution_count": 15,
   "id": "94daf6bb-9dd7-4e64-9164-b59ba160d2d7",
   "metadata": {},
   "outputs": [
    {
     "name": "stdout",
     "output_type": "stream",
     "text": [
      "P1 (Qtd: 338, RC: 238, RN: 55, AM: 45)\n",
      "└── P2 (Qtd: 338, RC: 238, RN: 55, AM: 45)\n",
      "    ├── AM (Qtd: 30, RC: 0, RN: 0, AM: 30)\n",
      "    └── P3 (Qtd: 308, RC: 238, RN: 55, AM: 15)\n",
      "        └── DU (Qtd: 308, RC: 238, RN: 55, AM: 15)\n",
      "            ├── EA (Qtd: 46, RC: 16, RN: 27, AM: 3)\n",
      "            │   ├── AIC (Qtd: 8, RC: 5, RN: 0, AM: 3)\n",
      "            │   │   ├── AM (Qtd: 3, RC: 0, RN: 0, AM: 3)\n",
      "            │   │   └── APD (Qtd: 5, RC: 5, RN: 0, AM: 0)\n",
      "            │   │       └── RC (Qtd: 5, RC: 5, RN: 0, AM: 0)\n",
      "            │   ├── APD (Qtd: 11, RC: 11, RN: 0, AM: 0)\n",
      "            │   │   └── RC (Qtd: 11, RC: 11, RN: 0, AM: 0)\n",
      "            │   └── RN (Qtd: 27, RC: 0, RN: 27, AM: 0)\n",
      "            ├── RCFOR (Qtd: 91, RC: 74, RN: 10, AM: 7)\n",
      "            │   ├── AM (Qtd: 7, RC: 0, RN: 0, AM: 7)\n",
      "            │   ├── RC (Qtd: 74, RC: 74, RN: 0, AM: 0)\n",
      "            │   └── RN (Qtd: 10, RC: 0, RN: 10, AM: 0)\n",
      "            ├── RCPOS (Qtd: 123, RC: 113, RN: 7, AM: 3)\n",
      "            │   ├── AM (Qtd: 3, RC: 0, RN: 0, AM: 3)\n",
      "            │   ├── RC (Qtd: 113, RC: 113, RN: 0, AM: 0)\n",
      "            │   └── RN (Qtd: 7, RC: 0, RN: 7, AM: 0)\n",
      "            └── RCRES (Qtd: 48, RC: 35, RN: 11, AM: 2)\n",
      "                ├── AM (Qtd: 2, RC: 0, RN: 0, AM: 2)\n",
      "                ├── RC (Qtd: 35, RC: 35, RN: 0, AM: 0)\n",
      "                └── RN (Qtd: 11, RC: 0, RN: 11, AM: 0)\n"
     ]
    }
   ],
   "source": [
    "for pre, fill, node in RenderTree(arvore):\n",
    "    print('%s%s (Qtd: %s, RC: %s, RN: %s, AM: %s)' % (pre, node.name, node.Qtd, node.RC, node.RN, node.AM))"
   ]
  },
  {
   "cell_type": "markdown",
   "id": "8f8a7dbc-e6d5-4394-bb4a-286a064bbd6b",
   "metadata": {},
   "source": [
    "# Export para TXT"
   ]
  },
  {
   "cell_type": "code",
   "execution_count": 16,
   "id": "5b320564-9d49-40fb-aed7-f336c33fb68a",
   "metadata": {},
   "outputs": [],
   "source": [
    "def export_txt(arvore):\n",
    "    with open('tree.txt', 'w') as f:\n",
    "        for pre, fill, node in RenderTree(arvore):\n",
    "            string = '%s%s (Qtd: %s, RC: %s, RN: %s, AM: %s)' % (pre, node.name, node.Qtd, node.RC, node.RN, node.AM)\n",
    "            f.write(string)\n",
    "            f.write('\\n')\n",
    "\n",
    "export_txt(arvore)"
   ]
  },
  {
   "cell_type": "markdown",
   "id": "d7c7e451-befe-4515-9f0a-7c68aafaefb2",
   "metadata": {},
   "source": [
    "# Export para Graphviz"
   ]
  },
  {
   "cell_type": "code",
   "execution_count": 17,
   "id": "0cfb3839-abe9-457c-a621-cf08b98a6627",
   "metadata": {},
   "outputs": [],
   "source": [
    "#https://graphviz.org/doc/info/shapes.html\n",
    "#https://graphviz.org/doc/info/shapes.html#html\n",
    "\n",
    "#o nome do Node é o que o algoritmo usa como referência na hora de criar nós novos ou reutilizar um jpa existente\n",
    "#Portanto, nesse caso, usamos como nome a sequencia toda de ancestrais para que o nó tenha um nome único (assim será criado um AM novo para cada bifurcação)\n",
    "def nodenamefunc(node):\n",
    "    nome_unico = '>'.join([v.name for v in node.ancestors]) + '>' + node.name\n",
    "    return nome_unico\n",
    "\n",
    "def nodeattrfunc(node):\n",
    "    #label = ''\n",
    "    #if node.depth == 0:\n",
    "    #    label = label + r'(%s) \\n %s' % (node.Qtd, node.name)\n",
    "    #else:\n",
    "    #    label = label + '%s' % (node.name)\n",
    "    #if node.name not in ['RC', 'RN', 'AM']:\n",
    "    #    label = label + r'| RC: %s \\n RN: %s \\n AM: %s' % (node.RC, node.RN, node.AM)\n",
    "    #label = f'shape=record;label=\"{label}\";'\n",
    "\n",
    "    label = '<table border=\"0\" cellborder=\"0\">'\n",
    "    if node.depth == 0:\n",
    "        label = label + '<tr><td>' + r'(%s)<br/><b>%s</b>' % (node.Qtd, node.name) + '</td></tr>'\n",
    "    else:\n",
    "        label = label + '<tr><td><b>%s</b></td></tr>' % (node.name)\n",
    "    if node.name not in ['RC', 'RN', 'AM', 'RCPOS', 'RCFOR', 'RCRES', 'APD']:\n",
    "        label = label + '<hr/><tr><td><font point-size=\"10\">' + r'RC: %s<br/>RN: %s<br/>AM: %s' % (node.RC, node.RN, node.AM) + '</font></td></tr>'\n",
    "    label = label + '</table>'\n",
    "    label = f'shape=plaintext;fontsize=12;width=0;height=0;margin=0.04;label=<{label}>;'\n",
    "\n",
    "    style = ''\n",
    "    style = style + 'style=\"rounded,filled\";'\n",
    "    paleta_cores = sns.color_palette(\"colorblind\")\n",
    "    if node.name == 'RC':\n",
    "        cor = [int(255*v) for v in paleta_cores[2]]\n",
    "        cor_hex = '#{:02x}{:02x}{:02x}'.format(cor[0], cor[1], cor[2])\n",
    "        style = style + f'fillcolor=\"{cor_hex}\";'\n",
    "    elif node.name == 'RN':\n",
    "        cor = [int(255*v) for v in paleta_cores[1]]\n",
    "        cor_hex = '#{:02x}{:02x}{:02x}'.format(cor[0], cor[1], cor[2])\n",
    "        style = style + f'fillcolor=\"{cor_hex}\";'\n",
    "    elif node.name == 'AM':\n",
    "        cor = [int(255*v) for v in paleta_cores[3]]\n",
    "        cor_hex = '#{:02x}{:02x}{:02x}'.format(cor[0], cor[1], cor[2])\n",
    "        style = style + f'fillcolor=\"{cor_hex}\";'\n",
    "    else:\n",
    "        cor = [int(255*v) for v in paleta_cores[0]]\n",
    "        cor_hex = '#{:02x}{:02x}{:02x}'.format(cor[0], cor[1], cor[2])\n",
    "        style = style + f'fillcolor=\"{cor_hex}\";'\n",
    "    \n",
    "    return f'{style}{label}'\n",
    "        \n",
    "def edgeattrfunc(node, child):\n",
    "    #node.name\n",
    "    #child.name\n",
    "    label = '%s' % (child.Qtd)\n",
    "    return f'label={label};' #f'style=bold;label={label};'\n",
    "\n",
    "DotExporter(arvore,\n",
    "            options = ['rankdir=LR;'],\n",
    "            nodenamefunc = nodenamefunc,\n",
    "            nodeattrfunc = nodeattrfunc,\n",
    "            edgeattrfunc = edgeattrfunc).to_dotfile('tree.dot')"
   ]
  },
  {
   "cell_type": "code",
   "execution_count": 18,
   "id": "6cb84768-2731-461f-a575-9e187dc7e57f",
   "metadata": {},
   "outputs": [],
   "source": [
    "#http://magjac.com/graphviz-visual-editor/\n",
    "#!dot -Tpng tree.dot > tree.png\n",
    "!dot -Tsvg tree.dot > tree.svg"
   ]
  },
  {
   "cell_type": "code",
   "execution_count": null,
   "id": "013ebab8-c958-4bef-b1a3-d9be9f7fe2cc",
   "metadata": {},
   "outputs": [],
   "source": []
  }
 ],
 "metadata": {
  "kernelspec": {
   "display_name": "Python 3 (ipykernel)",
   "language": "python",
   "name": "python3"
  },
  "language_info": {
   "codemirror_mode": {
    "name": "ipython",
    "version": 3
   },
   "file_extension": ".py",
   "mimetype": "text/x-python",
   "name": "python",
   "nbconvert_exporter": "python",
   "pygments_lexer": "ipython3",
   "version": "3.11.0rc1"
  }
 },
 "nbformat": 4,
 "nbformat_minor": 5
}
