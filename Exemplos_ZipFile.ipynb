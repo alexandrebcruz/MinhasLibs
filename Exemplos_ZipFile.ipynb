{
 "cells": [
  {
   "cell_type": "code",
   "execution_count": 10,
   "source": [
    "import os\r\n",
    "from zipfile import ZipFile\r\n",
    "\r\n",
    "dirName = 'datasets'\r\n",
    "with ZipFile('myzipfile.zip', 'w') as zipObj:\r\n",
    "    for folderName, subfolders, filenames in os.walk(dirName):\r\n",
    "        for filename in filenames:\r\n",
    "            filePath = os.path.join(folderName, filename)\r\n",
    "            if(os.path.basename(filePath) == 'elbsg.config'):\r\n",
    "                zipObj.write(filePath, '.ebextensions/' + os.path.basename(filePath))\r\n",
    "            else:\r\n",
    "                zipObj.write(filePath, os.path.basename(filePath))"
   ],
   "outputs": [],
   "metadata": {}
  }
 ],
 "metadata": {
  "kernelspec": {
   "name": "python3",
   "display_name": "Python 3.7.6 64-bit ('base': conda)"
  },
  "language_info": {
   "codemirror_mode": {
    "name": "ipython",
    "version": 3
   },
   "file_extension": ".py",
   "mimetype": "text/x-python",
   "name": "python",
   "nbconvert_exporter": "python",
   "pygments_lexer": "ipython3",
   "version": "3.7.6"
  },
  "interpreter": {
   "hash": "006b2a4c59105e151f59d7a783e9669671dc3b315a85df72952575de8c58cde6"
  }
 },
 "nbformat": 4,
 "nbformat_minor": 4
}