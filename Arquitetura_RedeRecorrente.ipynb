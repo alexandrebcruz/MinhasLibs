{
  "nbformat": 4,
  "nbformat_minor": 0,
  "metadata": {
    "colab": {
      "name": "Arquitetura_RedeRecorrente.ipynb",
      "provenance": [],
      "collapsed_sections": []
    },
    "kernelspec": {
      "name": "python3",
      "display_name": "Python 3"
    },
    "language_info": {
      "name": "python"
    },
    "accelerator": "GPU"
  },
  "cells": [
    {
      "cell_type": "code",
      "metadata": {
        "id": "VqZzSjQ9ayn2"
      },
      "source": [
        "path_notebook = '/content/drive/MyDrive/Desafio_Kaggle/'"
      ],
      "execution_count": 1,
      "outputs": []
    },
    {
      "cell_type": "code",
      "metadata": {
        "colab": {
          "base_uri": "https://localhost:8080/"
        },
        "id": "V6WDDqgya0c5",
        "outputId": "6bb26651-1b90-4c24-c0d4-bf17da4e1ef0"
      },
      "source": [
        "from google.colab import drive\n",
        "drive.mount('/content/drive', force_remount = True)\n",
        "#drive.flush_and_unmount()"
      ],
      "execution_count": 2,
      "outputs": [
        {
          "output_type": "stream",
          "name": "stdout",
          "text": [
            "Mounted at /content/drive\n"
          ]
        }
      ]
    },
    {
      "cell_type": "code",
      "metadata": {
        "id": "JYUg4U_ta4HL"
      },
      "source": [
        "import os\n",
        "import sys\n",
        "sys.path.insert(0, os.path.dirname(path_notebook))"
      ],
      "execution_count": 3,
      "outputs": []
    },
    {
      "cell_type": "code",
      "metadata": {
        "id": "LF8s7AyRa-8g"
      },
      "source": [
        "import AleTransforms as trf\n",
        "import AleDatasetAnalysis as dat\n",
        "import AleMLAnalysis as aml\n",
        "import AleExplainers as exp\n",
        "import AleLearners as lrn"
      ],
      "execution_count": 4,
      "outputs": []
    },
    {
      "cell_type": "code",
      "metadata": {
        "colab": {
          "base_uri": "https://localhost:8080/"
        },
        "id": "30emebd3bBx_",
        "outputId": "26a03feb-febb-463a-ea6a-85ba719d4628"
      },
      "source": [
        "import importlib\n",
        "importlib.reload(trf)\n",
        "importlib.reload(dat)\n",
        "importlib.reload(aml)\n",
        "importlib.reload(exp)\n",
        "importlib.reload(lrn)"
      ],
      "execution_count": 5,
      "outputs": [
        {
          "output_type": "execute_result",
          "data": {
            "text/plain": [
              "<module 'AleLearners' from '/content/drive/MyDrive/Desafio_Kaggle/AleLearners.py'>"
            ]
          },
          "metadata": {},
          "execution_count": 5
        }
      ]
    },
    {
      "cell_type": "code",
      "metadata": {
        "id": "awWh_DgcIH0g"
      },
      "source": [
        "import tensorflow as tf\n",
        "from IPython.display import Image\n",
        "from IPython.display import clear_output\n",
        "\n",
        "import pandas as pd\n",
        "import numpy as np\n",
        "import random\n",
        "import math\n",
        "\n",
        "from joblib import Parallel, delayed\n",
        "from multiprocessing import cpu_count\n",
        "\n",
        "import matplotlib as mpl\n",
        "import matplotlib.pyplot as plt\n",
        "import seaborn as sns\n",
        "from matplotlib.patches import Rectangle\n",
        "\n",
        "import itertools\n",
        "\n",
        "import gc"
      ],
      "execution_count": 6,
      "outputs": []
    },
    {
      "cell_type": "markdown",
      "metadata": {
        "id": "gSO4RTRL2u2y"
      },
      "source": [
        "# Dataset"
      ]
    },
    {
      "cell_type": "code",
      "metadata": {
        "id": "zgMP4MW_mUB8"
      },
      "source": [
        "#https://www.analyticsvidhya.com/blog/2021/07/implementing-lstm-for-human-activity-recognition-using-smartphone-accelerometer-data/\n",
        "#https://adventuresinmachinelearning.com/keras-lstm-tutorial/\n",
        "#https://amitness.com/2020/04/recurrent-layers-keras/"
      ],
      "execution_count": 7,
      "outputs": []
    },
    {
      "cell_type": "code",
      "metadata": {
        "colab": {
          "base_uri": "https://localhost:8080/"
        },
        "id": "mJ33mOx6nWof",
        "outputId": "2a95cc42-7227-43fb-b302-a02a8cff8740"
      },
      "source": [
        "!wget -c https://www.cis.fordham.edu/wisdm/includes/datasets/latest/WISDM_ar_latest.tar.gz -O - | tar -xz"
      ],
      "execution_count": 8,
      "outputs": [
        {
          "output_type": "stream",
          "name": "stdout",
          "text": [
            "--2021-10-11 15:02:03--  https://www.cis.fordham.edu/wisdm/includes/datasets/latest/WISDM_ar_latest.tar.gz\n",
            "Resolving www.cis.fordham.edu (www.cis.fordham.edu)... 150.108.68.29\n",
            "Connecting to www.cis.fordham.edu (www.cis.fordham.edu)|150.108.68.29|:443... connected.\n",
            "HTTP request sent, awaiting response... 200 OK\n",
            "Length: 11404612 (11M) [application/x-gzip]\n",
            "Saving to: ‘STDOUT’\n",
            "\n",
            "-                   100%[===================>]  10.88M  10.8MB/s    in 1.0s    \n",
            "\n",
            "2021-10-11 15:02:05 (10.8 MB/s) - written to stdout [11404612/11404612]\n",
            "\n"
          ]
        }
      ]
    },
    {
      "cell_type": "code",
      "metadata": {
        "colab": {
          "base_uri": "https://localhost:8080/",
          "height": 417
        },
        "id": "Dt5KVuSXltRC",
        "outputId": "5be56d94-6ff8-40e3-9837-dd397b14d156"
      },
      "source": [
        "colunas = ['user','activity','timestamp', 'x-axis', 'y-axis', 'z-axis']\n",
        "df = pd.read_csv('/content/WISDM_ar_v1.1/WISDM_ar_v1.1_raw.txt', header = None, names = colunas)\n",
        "df['z-axis'] = df['z-axis'].str.replace(';', '').astype(float)\n",
        "df['timestamp'] = df['timestamp'].mask(df['timestamp'] == 0, np.nan)\n",
        "df = df.dropna()\n",
        "df"
      ],
      "execution_count": 9,
      "outputs": [
        {
          "output_type": "execute_result",
          "data": {
            "text/html": [
              "<div>\n",
              "<style scoped>\n",
              "    .dataframe tbody tr th:only-of-type {\n",
              "        vertical-align: middle;\n",
              "    }\n",
              "\n",
              "    .dataframe tbody tr th {\n",
              "        vertical-align: top;\n",
              "    }\n",
              "\n",
              "    .dataframe thead th {\n",
              "        text-align: right;\n",
              "    }\n",
              "</style>\n",
              "<table border=\"1\" class=\"dataframe\">\n",
              "  <thead>\n",
              "    <tr style=\"text-align: right;\">\n",
              "      <th></th>\n",
              "      <th>user</th>\n",
              "      <th>activity</th>\n",
              "      <th>timestamp</th>\n",
              "      <th>x-axis</th>\n",
              "      <th>y-axis</th>\n",
              "      <th>z-axis</th>\n",
              "    </tr>\n",
              "  </thead>\n",
              "  <tbody>\n",
              "    <tr>\n",
              "      <th>0</th>\n",
              "      <td>33</td>\n",
              "      <td>Jogging</td>\n",
              "      <td>4.910596e+13</td>\n",
              "      <td>-0.694638</td>\n",
              "      <td>12.680544</td>\n",
              "      <td>0.503953</td>\n",
              "    </tr>\n",
              "    <tr>\n",
              "      <th>1</th>\n",
              "      <td>33</td>\n",
              "      <td>Jogging</td>\n",
              "      <td>4.910606e+13</td>\n",
              "      <td>5.012288</td>\n",
              "      <td>11.264028</td>\n",
              "      <td>0.953424</td>\n",
              "    </tr>\n",
              "    <tr>\n",
              "      <th>2</th>\n",
              "      <td>33</td>\n",
              "      <td>Jogging</td>\n",
              "      <td>4.910611e+13</td>\n",
              "      <td>4.903325</td>\n",
              "      <td>10.882658</td>\n",
              "      <td>-0.081722</td>\n",
              "    </tr>\n",
              "    <tr>\n",
              "      <th>3</th>\n",
              "      <td>33</td>\n",
              "      <td>Jogging</td>\n",
              "      <td>4.910622e+13</td>\n",
              "      <td>-0.612916</td>\n",
              "      <td>18.496431</td>\n",
              "      <td>3.023717</td>\n",
              "    </tr>\n",
              "    <tr>\n",
              "      <th>4</th>\n",
              "      <td>33</td>\n",
              "      <td>Jogging</td>\n",
              "      <td>4.910633e+13</td>\n",
              "      <td>-1.184970</td>\n",
              "      <td>12.108489</td>\n",
              "      <td>7.205164</td>\n",
              "    </tr>\n",
              "    <tr>\n",
              "      <th>...</th>\n",
              "      <td>...</td>\n",
              "      <td>...</td>\n",
              "      <td>...</td>\n",
              "      <td>...</td>\n",
              "      <td>...</td>\n",
              "      <td>...</td>\n",
              "    </tr>\n",
              "    <tr>\n",
              "      <th>1098199</th>\n",
              "      <td>19</td>\n",
              "      <td>Sitting</td>\n",
              "      <td>1.316233e+14</td>\n",
              "      <td>9.000000</td>\n",
              "      <td>-1.570000</td>\n",
              "      <td>1.690000</td>\n",
              "    </tr>\n",
              "    <tr>\n",
              "      <th>1098200</th>\n",
              "      <td>19</td>\n",
              "      <td>Sitting</td>\n",
              "      <td>1.316234e+14</td>\n",
              "      <td>9.040000</td>\n",
              "      <td>-1.460000</td>\n",
              "      <td>1.730000</td>\n",
              "    </tr>\n",
              "    <tr>\n",
              "      <th>1098201</th>\n",
              "      <td>19</td>\n",
              "      <td>Sitting</td>\n",
              "      <td>1.316234e+14</td>\n",
              "      <td>9.080000</td>\n",
              "      <td>-1.380000</td>\n",
              "      <td>1.690000</td>\n",
              "    </tr>\n",
              "    <tr>\n",
              "      <th>1098202</th>\n",
              "      <td>19</td>\n",
              "      <td>Sitting</td>\n",
              "      <td>1.316235e+14</td>\n",
              "      <td>9.000000</td>\n",
              "      <td>-1.460000</td>\n",
              "      <td>1.730000</td>\n",
              "    </tr>\n",
              "    <tr>\n",
              "      <th>1098203</th>\n",
              "      <td>19</td>\n",
              "      <td>Sitting</td>\n",
              "      <td>1.316235e+14</td>\n",
              "      <td>8.880000</td>\n",
              "      <td>-1.330000</td>\n",
              "      <td>1.610000</td>\n",
              "    </tr>\n",
              "  </tbody>\n",
              "</table>\n",
              "<p>1085360 rows × 6 columns</p>\n",
              "</div>"
            ],
            "text/plain": [
              "         user activity     timestamp    x-axis     y-axis    z-axis\n",
              "0          33  Jogging  4.910596e+13 -0.694638  12.680544  0.503953\n",
              "1          33  Jogging  4.910606e+13  5.012288  11.264028  0.953424\n",
              "2          33  Jogging  4.910611e+13  4.903325  10.882658 -0.081722\n",
              "3          33  Jogging  4.910622e+13 -0.612916  18.496431  3.023717\n",
              "4          33  Jogging  4.910633e+13 -1.184970  12.108489  7.205164\n",
              "...       ...      ...           ...       ...        ...       ...\n",
              "1098199    19  Sitting  1.316233e+14  9.000000  -1.570000  1.690000\n",
              "1098200    19  Sitting  1.316234e+14  9.040000  -1.460000  1.730000\n",
              "1098201    19  Sitting  1.316234e+14  9.080000  -1.380000  1.690000\n",
              "1098202    19  Sitting  1.316235e+14  9.000000  -1.460000  1.730000\n",
              "1098203    19  Sitting  1.316235e+14  8.880000  -1.330000  1.610000\n",
              "\n",
              "[1085360 rows x 6 columns]"
            ]
          },
          "metadata": {},
          "execution_count": 9
        }
      ]
    },
    {
      "cell_type": "markdown",
      "metadata": {
        "id": "UZcX8DjfT0g3"
      },
      "source": [
        "# Encoder do Alvo"
      ]
    },
    {
      "cell_type": "code",
      "metadata": {
        "colab": {
          "base_uri": "https://localhost:8080/",
          "height": 417
        },
        "id": "sddaM929T0KU",
        "outputId": "174e8e0f-8dd7-4ca3-d82e-8527e89f264d"
      },
      "source": [
        "alvo = 'activity'\n",
        "alvos = list(df[alvo].unique())\n",
        "for classe in alvos:\n",
        "    df[classe] = (df[alvo] == classe).astype(int)\n",
        "df = df.drop(alvo, axis = 1)\n",
        "df"
      ],
      "execution_count": 10,
      "outputs": [
        {
          "output_type": "execute_result",
          "data": {
            "text/html": [
              "<div>\n",
              "<style scoped>\n",
              "    .dataframe tbody tr th:only-of-type {\n",
              "        vertical-align: middle;\n",
              "    }\n",
              "\n",
              "    .dataframe tbody tr th {\n",
              "        vertical-align: top;\n",
              "    }\n",
              "\n",
              "    .dataframe thead th {\n",
              "        text-align: right;\n",
              "    }\n",
              "</style>\n",
              "<table border=\"1\" class=\"dataframe\">\n",
              "  <thead>\n",
              "    <tr style=\"text-align: right;\">\n",
              "      <th></th>\n",
              "      <th>user</th>\n",
              "      <th>timestamp</th>\n",
              "      <th>x-axis</th>\n",
              "      <th>y-axis</th>\n",
              "      <th>z-axis</th>\n",
              "      <th>Jogging</th>\n",
              "      <th>Walking</th>\n",
              "      <th>Upstairs</th>\n",
              "      <th>Downstairs</th>\n",
              "      <th>Sitting</th>\n",
              "      <th>Standing</th>\n",
              "    </tr>\n",
              "  </thead>\n",
              "  <tbody>\n",
              "    <tr>\n",
              "      <th>0</th>\n",
              "      <td>33</td>\n",
              "      <td>4.910596e+13</td>\n",
              "      <td>-0.694638</td>\n",
              "      <td>12.680544</td>\n",
              "      <td>0.503953</td>\n",
              "      <td>1</td>\n",
              "      <td>0</td>\n",
              "      <td>0</td>\n",
              "      <td>0</td>\n",
              "      <td>0</td>\n",
              "      <td>0</td>\n",
              "    </tr>\n",
              "    <tr>\n",
              "      <th>1</th>\n",
              "      <td>33</td>\n",
              "      <td>4.910606e+13</td>\n",
              "      <td>5.012288</td>\n",
              "      <td>11.264028</td>\n",
              "      <td>0.953424</td>\n",
              "      <td>1</td>\n",
              "      <td>0</td>\n",
              "      <td>0</td>\n",
              "      <td>0</td>\n",
              "      <td>0</td>\n",
              "      <td>0</td>\n",
              "    </tr>\n",
              "    <tr>\n",
              "      <th>2</th>\n",
              "      <td>33</td>\n",
              "      <td>4.910611e+13</td>\n",
              "      <td>4.903325</td>\n",
              "      <td>10.882658</td>\n",
              "      <td>-0.081722</td>\n",
              "      <td>1</td>\n",
              "      <td>0</td>\n",
              "      <td>0</td>\n",
              "      <td>0</td>\n",
              "      <td>0</td>\n",
              "      <td>0</td>\n",
              "    </tr>\n",
              "    <tr>\n",
              "      <th>3</th>\n",
              "      <td>33</td>\n",
              "      <td>4.910622e+13</td>\n",
              "      <td>-0.612916</td>\n",
              "      <td>18.496431</td>\n",
              "      <td>3.023717</td>\n",
              "      <td>1</td>\n",
              "      <td>0</td>\n",
              "      <td>0</td>\n",
              "      <td>0</td>\n",
              "      <td>0</td>\n",
              "      <td>0</td>\n",
              "    </tr>\n",
              "    <tr>\n",
              "      <th>4</th>\n",
              "      <td>33</td>\n",
              "      <td>4.910633e+13</td>\n",
              "      <td>-1.184970</td>\n",
              "      <td>12.108489</td>\n",
              "      <td>7.205164</td>\n",
              "      <td>1</td>\n",
              "      <td>0</td>\n",
              "      <td>0</td>\n",
              "      <td>0</td>\n",
              "      <td>0</td>\n",
              "      <td>0</td>\n",
              "    </tr>\n",
              "    <tr>\n",
              "      <th>...</th>\n",
              "      <td>...</td>\n",
              "      <td>...</td>\n",
              "      <td>...</td>\n",
              "      <td>...</td>\n",
              "      <td>...</td>\n",
              "      <td>...</td>\n",
              "      <td>...</td>\n",
              "      <td>...</td>\n",
              "      <td>...</td>\n",
              "      <td>...</td>\n",
              "      <td>...</td>\n",
              "    </tr>\n",
              "    <tr>\n",
              "      <th>1098199</th>\n",
              "      <td>19</td>\n",
              "      <td>1.316233e+14</td>\n",
              "      <td>9.000000</td>\n",
              "      <td>-1.570000</td>\n",
              "      <td>1.690000</td>\n",
              "      <td>0</td>\n",
              "      <td>0</td>\n",
              "      <td>0</td>\n",
              "      <td>0</td>\n",
              "      <td>1</td>\n",
              "      <td>0</td>\n",
              "    </tr>\n",
              "    <tr>\n",
              "      <th>1098200</th>\n",
              "      <td>19</td>\n",
              "      <td>1.316234e+14</td>\n",
              "      <td>9.040000</td>\n",
              "      <td>-1.460000</td>\n",
              "      <td>1.730000</td>\n",
              "      <td>0</td>\n",
              "      <td>0</td>\n",
              "      <td>0</td>\n",
              "      <td>0</td>\n",
              "      <td>1</td>\n",
              "      <td>0</td>\n",
              "    </tr>\n",
              "    <tr>\n",
              "      <th>1098201</th>\n",
              "      <td>19</td>\n",
              "      <td>1.316234e+14</td>\n",
              "      <td>9.080000</td>\n",
              "      <td>-1.380000</td>\n",
              "      <td>1.690000</td>\n",
              "      <td>0</td>\n",
              "      <td>0</td>\n",
              "      <td>0</td>\n",
              "      <td>0</td>\n",
              "      <td>1</td>\n",
              "      <td>0</td>\n",
              "    </tr>\n",
              "    <tr>\n",
              "      <th>1098202</th>\n",
              "      <td>19</td>\n",
              "      <td>1.316235e+14</td>\n",
              "      <td>9.000000</td>\n",
              "      <td>-1.460000</td>\n",
              "      <td>1.730000</td>\n",
              "      <td>0</td>\n",
              "      <td>0</td>\n",
              "      <td>0</td>\n",
              "      <td>0</td>\n",
              "      <td>1</td>\n",
              "      <td>0</td>\n",
              "    </tr>\n",
              "    <tr>\n",
              "      <th>1098203</th>\n",
              "      <td>19</td>\n",
              "      <td>1.316235e+14</td>\n",
              "      <td>8.880000</td>\n",
              "      <td>-1.330000</td>\n",
              "      <td>1.610000</td>\n",
              "      <td>0</td>\n",
              "      <td>0</td>\n",
              "      <td>0</td>\n",
              "      <td>0</td>\n",
              "      <td>1</td>\n",
              "      <td>0</td>\n",
              "    </tr>\n",
              "  </tbody>\n",
              "</table>\n",
              "<p>1085360 rows × 11 columns</p>\n",
              "</div>"
            ],
            "text/plain": [
              "         user     timestamp    x-axis  ...  Downstairs  Sitting  Standing\n",
              "0          33  4.910596e+13 -0.694638  ...           0        0         0\n",
              "1          33  4.910606e+13  5.012288  ...           0        0         0\n",
              "2          33  4.910611e+13  4.903325  ...           0        0         0\n",
              "3          33  4.910622e+13 -0.612916  ...           0        0         0\n",
              "4          33  4.910633e+13 -1.184970  ...           0        0         0\n",
              "...       ...           ...       ...  ...         ...      ...       ...\n",
              "1098199    19  1.316233e+14  9.000000  ...           0        1         0\n",
              "1098200    19  1.316234e+14  9.040000  ...           0        1         0\n",
              "1098201    19  1.316234e+14  9.080000  ...           0        1         0\n",
              "1098202    19  1.316235e+14  9.000000  ...           0        1         0\n",
              "1098203    19  1.316235e+14  8.880000  ...           0        1         0\n",
              "\n",
              "[1085360 rows x 11 columns]"
            ]
          },
          "metadata": {},
          "execution_count": 10
        }
      ]
    },
    {
      "cell_type": "markdown",
      "metadata": {
        "id": "21gbaVOLf99a"
      },
      "source": [
        "# Separação Treino/Teste"
      ]
    },
    {
      "cell_type": "code",
      "metadata": {
        "id": "3WHOv9o0Ajqu"
      },
      "source": [
        "colunas_id = ['user']\n",
        "coluna_temporal = 'timestamp'"
      ],
      "execution_count": 11,
      "outputs": []
    },
    {
      "cell_type": "code",
      "metadata": {
        "id": "mSYQQHb5ATtU"
      },
      "source": [
        "frac_treino_ids = 0.8\n",
        "\n",
        "set_ids = set(df.loc[:, colunas_id].itertuples(index = False, name = None))\n",
        "random.seed(42)\n",
        "set_ids_treino = set(random.sample(set_ids, round(len(set_ids)*frac_treino_ids)))\n",
        "\n",
        "frac_treino_tempo = 0.8\n",
        "\n",
        "num_div = max(round(1/frac_treino_tempo), round(1/(1-frac_treino_tempo)))\n",
        "corta_valores_tempo = trf.CortaIntervalosQuasiUniforme(df.loc[:, coluna_temporal].values, num_div = num_div)\n",
        "min_max = corta_valores_tempo.pares_minimo_maximo_discretizacao()\n",
        "interv_tempo_treino = (min_max[0][0], min_max[num_div-1][0])"
      ],
      "execution_count": 12,
      "outputs": []
    },
    {
      "cell_type": "code",
      "metadata": {
        "colab": {
          "base_uri": "https://localhost:8080/"
        },
        "id": "vn0egaPaHw-f",
        "outputId": "fb742fb0-f80a-47f2-fca7-656482757efd"
      },
      "source": [
        "print(set_ids_treino)\n",
        "print(interv_tempo_treino)\n",
        "\n",
        "#Aqui teria que guardar esses dados para poder identificar o que é teste em outros datasets futuros"
      ],
      "execution_count": 13,
      "outputs": [
        {
          "output_type": "stream",
          "name": "stdout",
          "text": [
            "{(21,), (32,), (23,), (34,), (9,), (36,), (11,), (13,), (1,), (28,), (3,), (5,), (16,), (7,), (18,), (20,), (33,), (8,), (35,), (10,), (12,), (14,), (25,), (27,), (2,), (4,), (31,), (6,), (19,)}\n",
            "(73452342000.0, 59401642330000.0)\n"
          ]
        }
      ]
    },
    {
      "cell_type": "code",
      "metadata": {
        "id": "ik_K5ca9B1WF"
      },
      "source": [
        "def cria_masks(df, colunas_id, coluna_temporal, set_ids_treino, interv_tempo_treino):\n",
        "    flag_id_treino = pd.Series(df.loc[:, colunas_id].itertuples(index = False, name = None)).isin(set_ids_treino).values\n",
        "    flag_tempo_treino = ((df.loc[:, coluna_temporal] >=  interv_tempo_treino[0]) & (df.loc[:, coluna_temporal] <  interv_tempo_treino[1])).values\n",
        "    mask_treino = (flag_id_treino & flag_tempo_treino)\n",
        "    mask_teste_amostra = ((~flag_id_treino) & flag_tempo_treino)\n",
        "    mask_teste_tempo = (flag_id_treino & (~flag_tempo_treino))\n",
        "    mask_teste = ((~flag_id_treino) & (~flag_tempo_treino))\n",
        "    return mask_treino, mask_teste_amostra, mask_teste_tempo, mask_teste"
      ],
      "execution_count": 14,
      "outputs": []
    },
    {
      "cell_type": "code",
      "metadata": {
        "id": "ElSsrwVuFs4R"
      },
      "source": [
        "mask_treino, mask_teste_amostra, mask_teste_tempo, mask_teste = cria_masks(df, colunas_id, coluna_temporal, set_ids_treino, interv_tempo_treino)"
      ],
      "execution_count": 15,
      "outputs": []
    },
    {
      "cell_type": "markdown",
      "metadata": {
        "id": "vE9jsK45gBn2"
      },
      "source": [
        "# Preparação da Base"
      ]
    },
    {
      "cell_type": "code",
      "metadata": {
        "id": "7BudPxvDIOdo"
      },
      "source": [
        "features = ['x-axis', 'y-axis', 'z-axis']\n",
        "#Aqui precisa salvar a lista de features para aplicar em outro dataset futuro"
      ],
      "execution_count": 16,
      "outputs": []
    },
    {
      "cell_type": "code",
      "metadata": {
        "id": "P4ws63cmJdsA"
      },
      "source": [
        "medias = df.loc[mask_treino, features].mean(axis = 0)\n",
        "desvios = df.loc[mask_treino, features].std(axis = 0)\n",
        "#Aqui precisa salvar as medias e desvios para pode recuperar e aplicar em outro dataset futuro\n",
        "\n",
        "fil_desv = desvios > 0\n",
        "\n",
        "medias_y = df.loc[mask_treino, alvos].mean(axis = 0)"
      ],
      "execution_count": 17,
      "outputs": []
    },
    {
      "cell_type": "code",
      "metadata": {
        "colab": {
          "base_uri": "https://localhost:8080/",
          "height": 417
        },
        "id": "UV9-EYCGKQ_W",
        "outputId": "a70d2f79-8bfa-4e29-b2fa-aafd022e43be"
      },
      "source": [
        "df['tempo_norm'] = (df[coluna_temporal] - interv_tempo_treino[0])/(interv_tempo_treino[1] - interv_tempo_treino[0])\n",
        "df.loc[:, np.array(features)[fil_desv]] = (df.loc[:, np.array(features)[fil_desv]] - medias[fil_desv])/desvios[fil_desv]\n",
        "\n",
        "features_ext = list(np.append(np.array(features)[fil_desv], ['tempo_norm']))\n",
        "#Valoes levar o tempo normalizado como uma feature a mais\n",
        "\n",
        "df"
      ],
      "execution_count": 18,
      "outputs": [
        {
          "output_type": "execute_result",
          "data": {
            "text/html": [
              "<div>\n",
              "<style scoped>\n",
              "    .dataframe tbody tr th:only-of-type {\n",
              "        vertical-align: middle;\n",
              "    }\n",
              "\n",
              "    .dataframe tbody tr th {\n",
              "        vertical-align: top;\n",
              "    }\n",
              "\n",
              "    .dataframe thead th {\n",
              "        text-align: right;\n",
              "    }\n",
              "</style>\n",
              "<table border=\"1\" class=\"dataframe\">\n",
              "  <thead>\n",
              "    <tr style=\"text-align: right;\">\n",
              "      <th></th>\n",
              "      <th>user</th>\n",
              "      <th>timestamp</th>\n",
              "      <th>x-axis</th>\n",
              "      <th>y-axis</th>\n",
              "      <th>z-axis</th>\n",
              "      <th>Jogging</th>\n",
              "      <th>Walking</th>\n",
              "      <th>Upstairs</th>\n",
              "      <th>Downstairs</th>\n",
              "      <th>Sitting</th>\n",
              "      <th>Standing</th>\n",
              "      <th>tempo_norm</th>\n",
              "    </tr>\n",
              "  </thead>\n",
              "  <tbody>\n",
              "    <tr>\n",
              "      <th>0</th>\n",
              "      <td>33</td>\n",
              "      <td>4.910596e+13</td>\n",
              "      <td>-0.175383</td>\n",
              "      <td>0.745223</td>\n",
              "      <td>-0.043668</td>\n",
              "      <td>1</td>\n",
              "      <td>0</td>\n",
              "      <td>0</td>\n",
              "      <td>0</td>\n",
              "      <td>0</td>\n",
              "      <td>0</td>\n",
              "      <td>0.826462</td>\n",
              "    </tr>\n",
              "    <tr>\n",
              "      <th>1</th>\n",
              "      <td>33</td>\n",
              "      <td>4.910606e+13</td>\n",
              "      <td>0.718189</td>\n",
              "      <td>0.527043</td>\n",
              "      <td>0.049284</td>\n",
              "      <td>1</td>\n",
              "      <td>0</td>\n",
              "      <td>0</td>\n",
              "      <td>0</td>\n",
              "      <td>0</td>\n",
              "      <td>0</td>\n",
              "      <td>0.826464</td>\n",
              "    </tr>\n",
              "    <tr>\n",
              "      <th>2</th>\n",
              "      <td>33</td>\n",
              "      <td>4.910611e+13</td>\n",
              "      <td>0.701128</td>\n",
              "      <td>0.468302</td>\n",
              "      <td>-0.164787</td>\n",
              "      <td>1</td>\n",
              "      <td>0</td>\n",
              "      <td>0</td>\n",
              "      <td>0</td>\n",
              "      <td>0</td>\n",
              "      <td>0</td>\n",
              "      <td>0.826465</td>\n",
              "    </tr>\n",
              "    <tr>\n",
              "      <th>3</th>\n",
              "      <td>33</td>\n",
              "      <td>4.910622e+13</td>\n",
              "      <td>-0.162587</td>\n",
              "      <td>1.641019</td>\n",
              "      <td>0.477425</td>\n",
              "      <td>1</td>\n",
              "      <td>0</td>\n",
              "      <td>0</td>\n",
              "      <td>0</td>\n",
              "      <td>0</td>\n",
              "      <td>0</td>\n",
              "      <td>0.826467</td>\n",
              "    </tr>\n",
              "    <tr>\n",
              "      <th>4</th>\n",
              "      <td>33</td>\n",
              "      <td>4.910633e+13</td>\n",
              "      <td>-0.252158</td>\n",
              "      <td>0.657112</td>\n",
              "      <td>1.342156</td>\n",
              "      <td>1</td>\n",
              "      <td>0</td>\n",
              "      <td>0</td>\n",
              "      <td>0</td>\n",
              "      <td>0</td>\n",
              "      <td>0</td>\n",
              "      <td>0.826468</td>\n",
              "    </tr>\n",
              "    <tr>\n",
              "      <th>...</th>\n",
              "      <td>...</td>\n",
              "      <td>...</td>\n",
              "      <td>...</td>\n",
              "      <td>...</td>\n",
              "      <td>...</td>\n",
              "      <td>...</td>\n",
              "      <td>...</td>\n",
              "      <td>...</td>\n",
              "      <td>...</td>\n",
              "      <td>...</td>\n",
              "      <td>...</td>\n",
              "      <td>...</td>\n",
              "    </tr>\n",
              "    <tr>\n",
              "      <th>1098199</th>\n",
              "      <td>19</td>\n",
              "      <td>1.316233e+14</td>\n",
              "      <td>1.342572</td>\n",
              "      <td>-1.449729</td>\n",
              "      <td>0.201609</td>\n",
              "      <td>0</td>\n",
              "      <td>0</td>\n",
              "      <td>0</td>\n",
              "      <td>0</td>\n",
              "      <td>1</td>\n",
              "      <td>0</td>\n",
              "      <td>2.217325</td>\n",
              "    </tr>\n",
              "    <tr>\n",
              "      <th>1098200</th>\n",
              "      <td>19</td>\n",
              "      <td>1.316234e+14</td>\n",
              "      <td>1.348835</td>\n",
              "      <td>-1.432786</td>\n",
              "      <td>0.209881</td>\n",
              "      <td>0</td>\n",
              "      <td>0</td>\n",
              "      <td>0</td>\n",
              "      <td>0</td>\n",
              "      <td>1</td>\n",
              "      <td>0</td>\n",
              "      <td>2.217326</td>\n",
              "    </tr>\n",
              "    <tr>\n",
              "      <th>1098201</th>\n",
              "      <td>19</td>\n",
              "      <td>1.316234e+14</td>\n",
              "      <td>1.355098</td>\n",
              "      <td>-1.420464</td>\n",
              "      <td>0.201609</td>\n",
              "      <td>0</td>\n",
              "      <td>0</td>\n",
              "      <td>0</td>\n",
              "      <td>0</td>\n",
              "      <td>1</td>\n",
              "      <td>0</td>\n",
              "      <td>2.217326</td>\n",
              "    </tr>\n",
              "    <tr>\n",
              "      <th>1098202</th>\n",
              "      <td>19</td>\n",
              "      <td>1.316235e+14</td>\n",
              "      <td>1.342572</td>\n",
              "      <td>-1.432786</td>\n",
              "      <td>0.209881</td>\n",
              "      <td>0</td>\n",
              "      <td>0</td>\n",
              "      <td>0</td>\n",
              "      <td>0</td>\n",
              "      <td>1</td>\n",
              "      <td>0</td>\n",
              "      <td>2.217328</td>\n",
              "    </tr>\n",
              "    <tr>\n",
              "      <th>1098203</th>\n",
              "      <td>19</td>\n",
              "      <td>1.316235e+14</td>\n",
              "      <td>1.323783</td>\n",
              "      <td>-1.412762</td>\n",
              "      <td>0.185065</td>\n",
              "      <td>0</td>\n",
              "      <td>0</td>\n",
              "      <td>0</td>\n",
              "      <td>0</td>\n",
              "      <td>1</td>\n",
              "      <td>0</td>\n",
              "      <td>2.217328</td>\n",
              "    </tr>\n",
              "  </tbody>\n",
              "</table>\n",
              "<p>1085360 rows × 12 columns</p>\n",
              "</div>"
            ],
            "text/plain": [
              "         user     timestamp    x-axis  ...  Sitting  Standing  tempo_norm\n",
              "0          33  4.910596e+13 -0.175383  ...        0         0    0.826462\n",
              "1          33  4.910606e+13  0.718189  ...        0         0    0.826464\n",
              "2          33  4.910611e+13  0.701128  ...        0         0    0.826465\n",
              "3          33  4.910622e+13 -0.162587  ...        0         0    0.826467\n",
              "4          33  4.910633e+13 -0.252158  ...        0         0    0.826468\n",
              "...       ...           ...       ...  ...      ...       ...         ...\n",
              "1098199    19  1.316233e+14  1.342572  ...        1         0    2.217325\n",
              "1098200    19  1.316234e+14  1.348835  ...        1         0    2.217326\n",
              "1098201    19  1.316234e+14  1.355098  ...        1         0    2.217326\n",
              "1098202    19  1.316235e+14  1.342572  ...        1         0    2.217328\n",
              "1098203    19  1.316235e+14  1.323783  ...        1         0    2.217328\n",
              "\n",
              "[1085360 rows x 12 columns]"
            ]
          },
          "metadata": {},
          "execution_count": 18
        }
      ]
    },
    {
      "cell_type": "code",
      "metadata": {
        "id": "uDl8J0GsgUTS"
      },
      "source": [
        "janela = 50"
      ],
      "execution_count": 19,
      "outputs": []
    },
    {
      "cell_type": "code",
      "metadata": {
        "id": "iOn1bXHxf89s"
      },
      "source": [
        "def g(x):\n",
        "    m = x[features_ext].values\n",
        "    m[:, -1] = m[:, -1] - m[-1, -1]\n",
        "    j = x.shape[0]\n",
        "    if(j != janela):\n",
        "        return pd.Series({'janela': j,\n",
        "                        'x': np.concatenate((np.tile(m[0, :], (janela-j, 1)), m), axis = 0), \n",
        "                        'y': x[alvos].values[-1]}, \n",
        "                        name = x[coluna_temporal].iloc[-1])\n",
        "    else:\n",
        "        return pd.Series({'janela': j,\n",
        "                        'x': m, \n",
        "                        'y': x[alvos].values[-1]}, \n",
        "                        name = x[coluna_temporal].iloc[-1])\n",
        "    \n",
        "###################################\n",
        "#Sem Multiprocessamento\n",
        "\n",
        "def f(grupo):\n",
        "    return pd.concat([g(y) for y in grupo.sort_values(coluna_temporal).rolling(janela)], axis = 1).T \n",
        "\n",
        "#df_p = df.groupby(colunas_id).apply(f).reset_index().rename({f'level_{str(len(colunas_id))}': coluna_temporal}, axis = 1)\n",
        "\n",
        "###################################\n",
        "#Com Multiprocessamento\n",
        "\n",
        "def f_p(nome, grupo):\n",
        "    retorno = Parallel(n_jobs = cpu_count())(delayed(g)(y) for y in grupo.sort_values(coluna_temporal).rolling(janela))\n",
        "    df = pd.concat(retorno, axis = 1).T\n",
        "    if(isinstance(nome, tuple)):\n",
        "        df.index = pd.MultiIndex.from_tuples([nome + (v,) for v in df.index])\n",
        "    else:\n",
        "        df.index = pd.MultiIndex.from_tuples([(nome,) + (v,) for v in df.index])\n",
        "    return df\n",
        "\n",
        "def apply_p(df_agrup, func):\n",
        "    retorno = Parallel(n_jobs = cpu_count())(delayed(func)(nome, grupo) for nome, grupo in df_agrup)\n",
        "    return pd.concat(retorno)\n",
        "\n",
        "df_p = apply_p(df.iloc[:10000].groupby(colunas_id), f_p).reset_index().rename({f'level_{str(len(colunas_id))}': coluna_temporal}, axis = 1)\n",
        "df_p = df_p.rename({f'level_{str(i)}': colunas_id[i] for i in range(0, len(colunas_id))}, axis = 1)"
      ],
      "execution_count": 57,
      "outputs": []
    },
    {
      "cell_type": "code",
      "metadata": {
        "colab": {
          "base_uri": "https://localhost:8080/",
          "height": 417
        },
        "id": "BYWL4k4f_IbY",
        "outputId": "ed367cb3-d4dd-47b7-a2f6-8fb51042ab16"
      },
      "source": [
        "df_p"
      ],
      "execution_count": 59,
      "outputs": [
        {
          "output_type": "execute_result",
          "data": {
            "text/html": [
              "<div>\n",
              "<style scoped>\n",
              "    .dataframe tbody tr th:only-of-type {\n",
              "        vertical-align: middle;\n",
              "    }\n",
              "\n",
              "    .dataframe tbody tr th {\n",
              "        vertical-align: top;\n",
              "    }\n",
              "\n",
              "    .dataframe thead th {\n",
              "        text-align: right;\n",
              "    }\n",
              "</style>\n",
              "<table border=\"1\" class=\"dataframe\">\n",
              "  <thead>\n",
              "    <tr style=\"text-align: right;\">\n",
              "      <th></th>\n",
              "      <th>user</th>\n",
              "      <th>timestamp</th>\n",
              "      <th>janela</th>\n",
              "      <th>x</th>\n",
              "      <th>y</th>\n",
              "    </tr>\n",
              "  </thead>\n",
              "  <tbody>\n",
              "    <tr>\n",
              "      <th>0</th>\n",
              "      <td>17</td>\n",
              "      <td>5.786990e+13</td>\n",
              "      <td>1</td>\n",
              "      <td>[[0.02295150420362107, 0.3025690188452759, -0....</td>\n",
              "      <td>[0, 1, 0, 0, 0, 0]</td>\n",
              "    </tr>\n",
              "    <tr>\n",
              "      <th>1</th>\n",
              "      <td>17</td>\n",
              "      <td>5.787001e+13</td>\n",
              "      <td>2</td>\n",
              "      <td>[[0.02295150420362107, 0.3025690188452759, -0....</td>\n",
              "      <td>[0, 1, 0, 0, 0, 0]</td>\n",
              "    </tr>\n",
              "    <tr>\n",
              "      <th>2</th>\n",
              "      <td>17</td>\n",
              "      <td>5.787012e+13</td>\n",
              "      <td>3</td>\n",
              "      <td>[[0.02295150420362107, 0.3025690188452759, -0....</td>\n",
              "      <td>[0, 1, 0, 0, 0, 0]</td>\n",
              "    </tr>\n",
              "    <tr>\n",
              "      <th>3</th>\n",
              "      <td>17</td>\n",
              "      <td>5.787022e+13</td>\n",
              "      <td>4</td>\n",
              "      <td>[[0.02295150420362107, 0.3025690188452759, -0....</td>\n",
              "      <td>[0, 1, 0, 0, 0, 0]</td>\n",
              "    </tr>\n",
              "    <tr>\n",
              "      <th>4</th>\n",
              "      <td>17</td>\n",
              "      <td>5.787033e+13</td>\n",
              "      <td>5</td>\n",
              "      <td>[[0.02295150420362107, 0.3025690188452759, -0....</td>\n",
              "      <td>[0, 1, 0, 0, 0, 0]</td>\n",
              "    </tr>\n",
              "    <tr>\n",
              "      <th>...</th>\n",
              "      <td>...</td>\n",
              "      <td>...</td>\n",
              "      <td>...</td>\n",
              "      <td>...</td>\n",
              "      <td>...</td>\n",
              "    </tr>\n",
              "    <tr>\n",
              "      <th>9995</th>\n",
              "      <td>33</td>\n",
              "      <td>5.573677e+13</td>\n",
              "      <td>50</td>\n",
              "      <td>[[-1.327003500459315, 1.806752587888349, -0.06...</td>\n",
              "      <td>[1, 0, 0, 0, 0, 0]</td>\n",
              "    </tr>\n",
              "    <tr>\n",
              "      <th>9996</th>\n",
              "      <td>33</td>\n",
              "      <td>5.573682e+13</td>\n",
              "      <td>50</td>\n",
              "      <td>[[1.9913694940646078, 1.6242366415277403, 0.53...</td>\n",
              "      <td>[1, 0, 0, 0, 0, 0]</td>\n",
              "    </tr>\n",
              "    <tr>\n",
              "      <th>9997</th>\n",
              "      <td>33</td>\n",
              "      <td>5.573693e+13</td>\n",
              "      <td>50</td>\n",
              "      <td>[[1.0977972816454606, 1.246617298757637, 1.871...</td>\n",
              "      <td>[1, 0, 0, 0, 0, 0]</td>\n",
              "    </tr>\n",
              "    <tr>\n",
              "      <th>9998</th>\n",
              "      <td>33</td>\n",
              "      <td>5.573704e+13</td>\n",
              "      <td>50</td>\n",
              "      <td>[[0.059206220339695505, 1.1354293118526098, -0...</td>\n",
              "      <td>[1, 0, 0, 0, 0, 0]</td>\n",
              "    </tr>\n",
              "    <tr>\n",
              "      <th>9999</th>\n",
              "      <td>33</td>\n",
              "      <td>5.573715e+13</td>\n",
              "      <td>50</td>\n",
              "      <td>[[2.3624471943688947, 1.2592045947807273, 0.11...</td>\n",
              "      <td>[1, 0, 0, 0, 0, 0]</td>\n",
              "    </tr>\n",
              "  </tbody>\n",
              "</table>\n",
              "<p>10000 rows × 5 columns</p>\n",
              "</div>"
            ],
            "text/plain": [
              "      user  ...                   y\n",
              "0       17  ...  [0, 1, 0, 0, 0, 0]\n",
              "1       17  ...  [0, 1, 0, 0, 0, 0]\n",
              "2       17  ...  [0, 1, 0, 0, 0, 0]\n",
              "3       17  ...  [0, 1, 0, 0, 0, 0]\n",
              "4       17  ...  [0, 1, 0, 0, 0, 0]\n",
              "...    ...  ...                 ...\n",
              "9995    33  ...  [1, 0, 0, 0, 0, 0]\n",
              "9996    33  ...  [1, 0, 0, 0, 0, 0]\n",
              "9997    33  ...  [1, 0, 0, 0, 0, 0]\n",
              "9998    33  ...  [1, 0, 0, 0, 0, 0]\n",
              "9999    33  ...  [1, 0, 0, 0, 0, 0]\n",
              "\n",
              "[10000 rows x 5 columns]"
            ]
          },
          "metadata": {},
          "execution_count": 59
        }
      ]
    },
    {
      "cell_type": "markdown",
      "metadata": {
        "id": "7JQ63iasJW8V"
      },
      "source": [
        "#Separação Treino/Validação"
      ]
    },
    {
      "cell_type": "code",
      "metadata": {
        "id": "NOgMyq1sJV_9"
      },
      "source": [
        "frac_val_ids = 0.2\n",
        "n_val_ids = 4\n",
        "\n",
        "lista_set_ids_val = []\n",
        "for i in range(0, n_val_ids):\n",
        "    random.seed(i)\n",
        "    set_ids_val = set(random.sample(set_ids_treino, round(len(set_ids_treino)*frac_val_ids)))\n",
        "    lista_set_ids_val.append(set_ids_val)\n",
        "\n",
        "frac_val_tempo = 0.2\n",
        "\n",
        "num_div = max(round(1/frac_val_tempo), round(1/(1-frac_val_tempo)))\n",
        "corta_valores_tempo = trf.CortaIntervalosQuasiUniforme(df.loc[mask_treino, coluna_temporal].values, num_div = num_div)\n",
        "min_max = corta_valores_tempo.pares_minimo_maximo_discretizacao()\n",
        "\n",
        "lista_interv_tempo_val = []\n",
        "lista_interv_tempo_val.append((min_max[0][0], min_max[0][1]))\n",
        "lista_interv_tempo_val.append((min_max[num_div-1][0], min_max[num_div-1][1]))"
      ],
      "execution_count": 22,
      "outputs": []
    },
    {
      "cell_type": "code",
      "metadata": {
        "id": "fmejvXQSmd3X",
        "colab": {
          "base_uri": "https://localhost:8080/"
        },
        "outputId": "b91344d4-5f65-43c2-9164-f7e76748c4f2"
      },
      "source": [
        "print(lista_set_ids_val)\n",
        "print(lista_interv_tempo_val)"
      ],
      "execution_count": 23,
      "outputs": [
        {
          "output_type": "stream",
          "name": "stdout",
          "text": [
            "[{(32,), (1,), (2,), (16,), (6,), (7,)}, {(1,), (23,), (2,), (35,), (9,), (4,)}, {(32,), (23,), (4,), (5,), (6,), (19,)}, {(8,), (35,), (9,), (10,), (5,), (13,)}]\n",
            "[(73452342000.0, 1760077311500.0), (19443981804500.0, 59401632366000.0)]\n"
          ]
        }
      ]
    },
    {
      "cell_type": "code",
      "metadata": {
        "id": "D7G5wJgCLu9S"
      },
      "source": [
        "def cria_masks_ml(df, colunas_id, coluna_temporal, set_ids_val, interv_tempo_val):\n",
        "    flag_id_val = pd.Series(df.loc[:, colunas_id].itertuples(index = False, name = None)).isin(set_ids_val).values\n",
        "    flag_tempo_val = ((df.loc[:, coluna_temporal] >=  interv_tempo_val[0]) & (df.loc[:, coluna_temporal] <  interv_tempo_val[1])).values\n",
        "    mask_train = ((~flag_id_val) & (~flag_tempo_val))\n",
        "    mask_val = (flag_id_val & flag_tempo_val)\n",
        "    return mask_train, mask_val"
      ],
      "execution_count": 24,
      "outputs": []
    },
    {
      "cell_type": "code",
      "metadata": {
        "id": "ph2AdzgjMYWb"
      },
      "source": [
        "lista_mask_trainval = []\n",
        "for set_ids_val in lista_set_ids_val:\n",
        "    for interv_tempo_val in lista_interv_tempo_val:\n",
        "        lista_mask_trainval.append(cria_masks_ml(df_p, colunas_id, coluna_temporal, set_ids_val, interv_tempo_val))"
      ],
      "execution_count": 25,
      "outputs": []
    },
    {
      "cell_type": "code",
      "metadata": {
        "id": "Hyn3rDfeVrJS"
      },
      "source": [
        "mask_jan = (df_p['janela'] == 50).values\n",
        "for i in range(0, len(lista_mask_trainval)):\n",
        "    lista_mask_trainval[i] = (lista_mask_trainval[i][0] & mask_jan, lista_mask_trainval[i][1] & mask_jan)"
      ],
      "execution_count": 26,
      "outputs": []
    },
    {
      "cell_type": "markdown",
      "metadata": {
        "id": "TgC9oEwnz3tX"
      },
      "source": [
        "# Construção da Rede"
      ]
    },
    {
      "cell_type": "code",
      "metadata": {
        "id": "AKlFnaCxfdlC"
      },
      "source": [
        "def cria_rede(camada_entrada, dim_saida, k):\n",
        "    lista_neuronios = [32, 16]\n",
        "    lista_camadas = [camada_entrada]\n",
        "    lista_camadas.append(tf.keras.layers.Flatten(name = f'flatten_{str(k)}')(lista_camadas[-1]))\n",
        "    for i in range(0, len(lista_neuronios)):\n",
        "        n = lista_neuronios[i]\n",
        "        lista_camadas.append(tf.keras.layers.Dense(n, activation = 'relu', name = f'e_c{str(i)}_{str(k)}')(lista_camadas[-1]))\n",
        "    camada_saida = tf.keras.layers.Dense(dim_saida, activation = 'softmax', name = f'saida_{str(k)}')(lista_camadas[-1])\n",
        "    return camada_saida\n",
        "\n",
        "def cria_rede_rec(camada_entrada, dim_saida, k):\n",
        "    lista_neuronios = [32, 16]\n",
        "    lista_camadas = [camada_entrada]\n",
        "    lista_camadas.append(tf.keras.layers.SimpleRNN(50, return_sequences = False, name = f'rec_{str(k)}')(lista_camadas[-1]))\n",
        "    for i in range(0, len(lista_neuronios)):\n",
        "        n = lista_neuronios[i]\n",
        "        lista_camadas.append(tf.keras.layers.Dense(n, activation = 'relu', name = f'e_c{str(i)}_{str(k)}')(lista_camadas[-1]))\n",
        "    camada_saida = tf.keras.layers.Dense(dim_saida, activation = 'softmax', name = f'saida_{str(k)}')(lista_camadas[-1])\n",
        "    return camada_saida"
      ],
      "execution_count": 27,
      "outputs": []
    },
    {
      "cell_type": "code",
      "metadata": {
        "id": "tUtpofRUIcgo"
      },
      "source": [
        "N = len(lista_mask_trainval)\n",
        "n_features = len(features_ext)\n",
        "dim_saida = len(alvos)"
      ],
      "execution_count": 28,
      "outputs": []
    },
    {
      "cell_type": "code",
      "metadata": {
        "id": "oYtqM8peIQFk"
      },
      "source": [
        "####################################\n",
        "\n",
        "camada_entrada = tf.keras.layers.Input(shape = (janela, n_features), name = 'entrada')\n",
        "lista_redes = []\n",
        "for i in range(N):\n",
        "    lista_redes.append(cria_rede_rec(camada_entrada, dim_saida, i))\n",
        "\n",
        "ensemble = tf.keras.layers.Average(name = 'ensemble')(lista_redes)\n",
        "\n",
        "modelo = tf.keras.models.Model(inputs = camada_entrada, outputs = ensemble, name = 'clf')\n",
        "\n",
        "pesos_iniciais = modelo.get_weights()"
      ],
      "execution_count": 29,
      "outputs": []
    },
    {
      "cell_type": "code",
      "metadata": {
        "colab": {
          "base_uri": "https://localhost:8080/"
        },
        "id": "daofdtdHzoRL",
        "outputId": "ddce4d41-9c06-4a43-bc85-bb320b31f3b2"
      },
      "source": [
        "modelo.summary()"
      ],
      "execution_count": 30,
      "outputs": [
        {
          "output_type": "stream",
          "name": "stdout",
          "text": [
            "Model: \"clf\"\n",
            "__________________________________________________________________________________________________\n",
            "Layer (type)                    Output Shape         Param #     Connected to                     \n",
            "==================================================================================================\n",
            "entrada (InputLayer)            [(None, 50, 4)]      0                                            \n",
            "__________________________________________________________________________________________________\n",
            "rec_0 (SimpleRNN)               (None, 50)           2750        entrada[0][0]                    \n",
            "__________________________________________________________________________________________________\n",
            "rec_1 (SimpleRNN)               (None, 50)           2750        entrada[0][0]                    \n",
            "__________________________________________________________________________________________________\n",
            "rec_2 (SimpleRNN)               (None, 50)           2750        entrada[0][0]                    \n",
            "__________________________________________________________________________________________________\n",
            "rec_3 (SimpleRNN)               (None, 50)           2750        entrada[0][0]                    \n",
            "__________________________________________________________________________________________________\n",
            "rec_4 (SimpleRNN)               (None, 50)           2750        entrada[0][0]                    \n",
            "__________________________________________________________________________________________________\n",
            "rec_5 (SimpleRNN)               (None, 50)           2750        entrada[0][0]                    \n",
            "__________________________________________________________________________________________________\n",
            "rec_6 (SimpleRNN)               (None, 50)           2750        entrada[0][0]                    \n",
            "__________________________________________________________________________________________________\n",
            "rec_7 (SimpleRNN)               (None, 50)           2750        entrada[0][0]                    \n",
            "__________________________________________________________________________________________________\n",
            "e_c0_0 (Dense)                  (None, 32)           1632        rec_0[0][0]                      \n",
            "__________________________________________________________________________________________________\n",
            "e_c0_1 (Dense)                  (None, 32)           1632        rec_1[0][0]                      \n",
            "__________________________________________________________________________________________________\n",
            "e_c0_2 (Dense)                  (None, 32)           1632        rec_2[0][0]                      \n",
            "__________________________________________________________________________________________________\n",
            "e_c0_3 (Dense)                  (None, 32)           1632        rec_3[0][0]                      \n",
            "__________________________________________________________________________________________________\n",
            "e_c0_4 (Dense)                  (None, 32)           1632        rec_4[0][0]                      \n",
            "__________________________________________________________________________________________________\n",
            "e_c0_5 (Dense)                  (None, 32)           1632        rec_5[0][0]                      \n",
            "__________________________________________________________________________________________________\n",
            "e_c0_6 (Dense)                  (None, 32)           1632        rec_6[0][0]                      \n",
            "__________________________________________________________________________________________________\n",
            "e_c0_7 (Dense)                  (None, 32)           1632        rec_7[0][0]                      \n",
            "__________________________________________________________________________________________________\n",
            "e_c1_0 (Dense)                  (None, 16)           528         e_c0_0[0][0]                     \n",
            "__________________________________________________________________________________________________\n",
            "e_c1_1 (Dense)                  (None, 16)           528         e_c0_1[0][0]                     \n",
            "__________________________________________________________________________________________________\n",
            "e_c1_2 (Dense)                  (None, 16)           528         e_c0_2[0][0]                     \n",
            "__________________________________________________________________________________________________\n",
            "e_c1_3 (Dense)                  (None, 16)           528         e_c0_3[0][0]                     \n",
            "__________________________________________________________________________________________________\n",
            "e_c1_4 (Dense)                  (None, 16)           528         e_c0_4[0][0]                     \n",
            "__________________________________________________________________________________________________\n",
            "e_c1_5 (Dense)                  (None, 16)           528         e_c0_5[0][0]                     \n",
            "__________________________________________________________________________________________________\n",
            "e_c1_6 (Dense)                  (None, 16)           528         e_c0_6[0][0]                     \n",
            "__________________________________________________________________________________________________\n",
            "e_c1_7 (Dense)                  (None, 16)           528         e_c0_7[0][0]                     \n",
            "__________________________________________________________________________________________________\n",
            "saida_0 (Dense)                 (None, 6)            102         e_c1_0[0][0]                     \n",
            "__________________________________________________________________________________________________\n",
            "saida_1 (Dense)                 (None, 6)            102         e_c1_1[0][0]                     \n",
            "__________________________________________________________________________________________________\n",
            "saida_2 (Dense)                 (None, 6)            102         e_c1_2[0][0]                     \n",
            "__________________________________________________________________________________________________\n",
            "saida_3 (Dense)                 (None, 6)            102         e_c1_3[0][0]                     \n",
            "__________________________________________________________________________________________________\n",
            "saida_4 (Dense)                 (None, 6)            102         e_c1_4[0][0]                     \n",
            "__________________________________________________________________________________________________\n",
            "saida_5 (Dense)                 (None, 6)            102         e_c1_5[0][0]                     \n",
            "__________________________________________________________________________________________________\n",
            "saida_6 (Dense)                 (None, 6)            102         e_c1_6[0][0]                     \n",
            "__________________________________________________________________________________________________\n",
            "saida_7 (Dense)                 (None, 6)            102         e_c1_7[0][0]                     \n",
            "__________________________________________________________________________________________________\n",
            "ensemble (Average)              (None, 6)            0           saida_0[0][0]                    \n",
            "                                                                 saida_1[0][0]                    \n",
            "                                                                 saida_2[0][0]                    \n",
            "                                                                 saida_3[0][0]                    \n",
            "                                                                 saida_4[0][0]                    \n",
            "                                                                 saida_5[0][0]                    \n",
            "                                                                 saida_6[0][0]                    \n",
            "                                                                 saida_7[0][0]                    \n",
            "==================================================================================================\n",
            "Total params: 40,096\n",
            "Trainable params: 40,096\n",
            "Non-trainable params: 0\n",
            "__________________________________________________________________________________________________\n"
          ]
        }
      ]
    },
    {
      "cell_type": "code",
      "metadata": {
        "colab": {
          "base_uri": "https://localhost:8080/",
          "height": 590
        },
        "id": "VxPtSiVKL-WD",
        "outputId": "3909fc51-d10e-4a41-9f97-9072892f04e7"
      },
      "source": [
        "modelo_dot = tf.keras.utils.model_to_dot(\n",
        "    modelo,\n",
        "    show_shapes = False,\n",
        "    show_dtype = False,\n",
        "    show_layer_names = False,\n",
        "    rankdir = 'LR', #'TB', 'LR'\n",
        "    expand_nested = False,\n",
        "    dpi = 96,\n",
        "    subgraph = False,\n",
        "    layer_range = None,\n",
        ")\n",
        "display(Image(modelo_dot.create_png()))"
      ],
      "execution_count": 31,
      "outputs": [
        {
          "output_type": "display_data",
          "data": {
            "image/png": "[encoded data removed]",
            "text/plain": [
              "<IPython.core.display.Image object>"
            ]
          },
          "metadata": {}
        }
      ]
    },
    {
      "cell_type": "markdown",
      "metadata": {
        "id": "luu04YbHz89v"
      },
      "source": [
        "# Treinamento da Rede"
      ]
    },
    {
      "cell_type": "code",
      "metadata": {
        "id": "ypo_ZfQcsPpv"
      },
      "source": [
        "def reseta_todas_camadas_treinaveis(modelo):\n",
        "    for camada in modelo.layers:\n",
        "        camada.trainable = True\n",
        "\n",
        "def altera_camadas_treinaveis(modelo, k):\n",
        "    for camada in modelo.layers:\n",
        "        if camada.name[-len(f'_{str(k)}'):] == f'_{str(k)}':\n",
        "            camada.trainable = True\n",
        "        else:\n",
        "            camada.trainable = False"
      ],
      "execution_count": 32,
      "outputs": []
    },
    {
      "cell_type": "code",
      "metadata": {
        "id": "oXchwETGsjRr"
      },
      "source": [
        "def plot_curva_vies_variancia(curvas_vies_variancia, lista_loss_ref, curvas_vies_variancia_media, figsize = [6, 4]):\n",
        "    paleta_cores = sns.color_palette(\"colorblind\")\n",
        "    with sns.axes_style(\"whitegrid\"):\n",
        "        for j in range(0, len(curvas_vies_variancia)):\n",
        "            print(f'Conjunto {str(j)}:')\n",
        "            fig, ax = plt.subplots(1, 1, figsize = figsize)\n",
        "            epocas = np.arange(1, len(curvas_vies_variancia[j][0]) + 1)\n",
        "            loss_train = 1 - curvas_vies_variancia[j][0]/lista_loss_ref[j][0]\n",
        "            loss_val = 1 - curvas_vies_variancia[j][1]/lista_loss_ref[j][1]\n",
        "            ax.plot(epocas, loss_train, color = paleta_cores[0], label = 'Treino')\n",
        "            ax.plot(epocas, loss_val, color = paleta_cores[1], label = 'Validacao')\n",
        "            ax.set_xlabel('Época')\n",
        "            ax.set_ylabel('Loss Norm.')\n",
        "            ax.legend(bbox_to_anchor=(1.05, 1), loc='upper left')\n",
        "            plt.show()\n",
        "        print('-----')\n",
        "        print('Curva Média:')\n",
        "        fig, ax = plt.subplots(1, 1, figsize = figsize)\n",
        "        epocas = np.arange(1, len(curvas_vies_variancia_media[0]) + 1)\n",
        "        loss_train = curvas_vies_variancia_media[0]\n",
        "        loss_val = curvas_vies_variancia_media[1]\n",
        "        ax.plot(epocas, loss_train, color = paleta_cores[0], label = 'Treino')\n",
        "        ax.plot(epocas, loss_val, color = paleta_cores[1], label = 'Validacao')\n",
        "        ax.set_xlabel('Época')\n",
        "        ax.set_ylabel('Loss Norm.')\n",
        "        ax.legend(bbox_to_anchor=(1.05, 1), loc='upper left')\n",
        "        plt.show()"
      ],
      "execution_count": 33,
      "outputs": []
    },
    {
      "cell_type": "code",
      "metadata": {
        "id": "usuMW7QV0Cnp"
      },
      "source": [
        "opt = tf.keras.optimizers.Adam(learning_rate = 0.01)\n",
        "func_loss = tf.keras.losses.CategoricalCrossentropy()\n",
        "modelo.compile(loss = func_loss, optimizer = opt)"
      ],
      "execution_count": 34,
      "outputs": []
    },
    {
      "cell_type": "code",
      "metadata": {
        "colab": {
          "base_uri": "https://localhost:8080/",
          "height": 555
        },
        "id": "PAJkgkcV5qvQ",
        "outputId": "f5280142-7280-4107-ac5a-2903f6d9c0bd"
      },
      "source": [
        "n_loops = 10\n",
        "epocas_por_loop = 2\n",
        "n_batchs = 32\n",
        "\n",
        "reseta_todas_camadas_treinaveis(modelo)\n",
        "modelo.set_weights(pesos_iniciais)\n",
        "\n",
        "callback = tf.keras.callbacks.ModelCheckpoint(\n",
        "                                              'pesos_callback.h5', #hdf5\n",
        "                                              monitor = 'val_loss',\n",
        "                                              verbose = False,\n",
        "                                              save_best_only = True,\n",
        "                                              save_weights_only = True,\n",
        "                                              mode = 'min',\n",
        "                                              save_freq = 'epoch',\n",
        "                                              )\n",
        "\n",
        "curvas_vies_variancia = [[[], []] for v in lista_mask_trainval]\n",
        "curvas_vies_variancia_media = [[], []]\n",
        "lista_loss_ref = []\n",
        "\n",
        "for i in range(0, n_loops):\n",
        "    for j in range(0, len(lista_mask_trainval)):\n",
        "        tupla = lista_mask_trainval[j]\n",
        "        x_train = np.stack(df_p.loc[tupla[0], 'x'])\n",
        "        x_val = np.stack(df_p.loc[tupla[1], 'x'])\n",
        "        y_train = np.stack(df_p.loc[tupla[0], 'y'])\n",
        "        y_val = np.stack(df_p.loc[tupla[1], 'y'])\n",
        "\n",
        "        if(i == 0):\n",
        "            lista_loss_ref.append((func_loss(y_train, np.tile(medias_y.values, (y_train.shape[0], 1))).numpy(), \n",
        "                                   func_loss(y_val, np.tile(medias_y.values, (y_val.shape[0], 1))).numpy()))\n",
        "\n",
        "        altera_camadas_treinaveis(modelo, j)\n",
        "\n",
        "        H = modelo.fit(x_train, y_train,\n",
        "                            validation_data = (x_val, y_val),\n",
        "                            epochs = epocas_por_loop,\n",
        "                            batch_size = math.ceil(np.sum(tupla[0])/n_batchs), \n",
        "                            callbacks = callback,\n",
        "                            verbose = False)\n",
        "    \n",
        "        reseta_todas_camadas_treinaveis(modelo)\n",
        "\n",
        "        argmin = np.argmin(H.history['val_loss'])\n",
        "        curvas_vies_variancia[j][0].extend(H.history['loss'][:argmin+1])\n",
        "        curvas_vies_variancia[j][1].extend(H.history['val_loss'][:argmin+1])\n",
        "        modelo.load_weights('pesos_callback.h5')\n",
        "\n",
        "        del x_train, x_val\n",
        "        del y_train, y_val\n",
        "        gc.collect()\n",
        "\n",
        "        clear_output(wait = True)\n",
        "        print(f'-Loop {str(i)}')\n",
        "        if(i > 0):\n",
        "            loss_train_acum = 0\n",
        "            loss_val_acum = 0\n",
        "            for k in range(0, len(lista_mask_trainval)):\n",
        "                loss_norm_train = 1 - curvas_vies_variancia[k][0][-1]/lista_loss_ref[k][0]\n",
        "                loss_norm_val = 1 - curvas_vies_variancia[k][1][-1]/lista_loss_ref[k][1]\n",
        "                loss_train_acum = loss_train_acum + loss_norm_train\n",
        "                loss_val_acum = loss_val_acum + loss_norm_val\n",
        "\n",
        "                loss_norm_train = round(loss_norm_train, 3)\n",
        "                loss_norm_val = round(loss_norm_val, 3)\n",
        "                if(k == j):\n",
        "                    print(f'Conjunto {str(k)}: {str(loss_norm_train)} / {str(loss_norm_val)} <-')\n",
        "                else:\n",
        "                    print(f'Conjunto {str(k)}: {str(loss_norm_train)} / {str(loss_norm_val)}')\n",
        "            \n",
        "            loss_train_acum = loss_train_acum/len(lista_mask_trainval)\n",
        "            loss_val_acum = loss_val_acum/len(lista_mask_trainval)\n",
        "            curvas_vies_variancia_media[0].append(loss_train_acum)\n",
        "            curvas_vies_variancia_media[1].append(loss_val_acum)\n",
        "\n",
        "            loss_train_acum = round(loss_train_acum, 3)\n",
        "            loss_val_acum = round(loss_val_acum, 3)\n",
        "            print('-----')\n",
        "            print(f'Média: {str(loss_train_acum)} / {str(loss_val_acum)}')\n",
        "        else:\n",
        "            loss_norm_train = round(1 - curvas_vies_variancia[j][0][-1]/lista_loss_ref[j][0], 3)\n",
        "            loss_norm_val = round(1 - curvas_vies_variancia[j][1][-1]/lista_loss_ref[j][1], 3)\n",
        "            print(f'Conjunto {str(j)}: {str(loss_norm_train)} / {str(loss_norm_val)}')"
      ],
      "execution_count": 35,
      "outputs": [
        {
          "output_type": "stream",
          "name": "stdout",
          "text": [
            "-Loop 8\n",
            "Conjunto 0: 0.506 / 0.89\n",
            "Conjunto 1: 0.425 / 0.459\n",
            "Conjunto 2: 0.513 / 0.564\n",
            "Conjunto 3: 0.489 / 0.141\n",
            "Conjunto 4: 0.496 / 0.602\n",
            "Conjunto 5: 0.524 / 0.518 <-\n",
            "Conjunto 6: 0.543 / 0.617\n",
            "Conjunto 7: 0.527 / 0.268\n",
            "-----\n",
            "Média: 0.503 / 0.507\n"
          ]
        },
        {
          "output_type": "error",
          "ename": "KeyboardInterrupt",
          "evalue": "ignored",
          "traceback": [
            "\u001b[0;31m---------------------------------------------------------------------------\u001b[0m",
            "\u001b[0;31mKeyboardInterrupt\u001b[0m                         Traceback (most recent call last)",
            "\u001b[0;32m<ipython-input-35-16468966e536>\u001b[0m in \u001b[0;36m<module>\u001b[0;34m()\u001b[0m\n\u001b[1;32m     39\u001b[0m                             \u001b[0mbatch_size\u001b[0m \u001b[0;34m=\u001b[0m \u001b[0mmath\u001b[0m\u001b[0;34m.\u001b[0m\u001b[0mceil\u001b[0m\u001b[0;34m(\u001b[0m\u001b[0mnp\u001b[0m\u001b[0;34m.\u001b[0m\u001b[0msum\u001b[0m\u001b[0;34m(\u001b[0m\u001b[0mtupla\u001b[0m\u001b[0;34m[\u001b[0m\u001b[0;36m0\u001b[0m\u001b[0;34m]\u001b[0m\u001b[0;34m)\u001b[0m\u001b[0;34m/\u001b[0m\u001b[0mn_batchs\u001b[0m\u001b[0;34m)\u001b[0m\u001b[0;34m,\u001b[0m\u001b[0;34m\u001b[0m\u001b[0;34m\u001b[0m\u001b[0m\n\u001b[1;32m     40\u001b[0m                             \u001b[0mcallbacks\u001b[0m \u001b[0;34m=\u001b[0m \u001b[0mcallback\u001b[0m\u001b[0;34m,\u001b[0m\u001b[0;34m\u001b[0m\u001b[0;34m\u001b[0m\u001b[0m\n\u001b[0;32m---> 41\u001b[0;31m                             verbose = False)\n\u001b[0m\u001b[1;32m     42\u001b[0m \u001b[0;34m\u001b[0m\u001b[0m\n\u001b[1;32m     43\u001b[0m         \u001b[0mreseta_todas_camadas_treinaveis\u001b[0m\u001b[0;34m(\u001b[0m\u001b[0mmodelo\u001b[0m\u001b[0;34m)\u001b[0m\u001b[0;34m\u001b[0m\u001b[0;34m\u001b[0m\u001b[0m\n",
            "\u001b[0;32m/usr/local/lib/python3.7/dist-packages/keras/engine/training.py\u001b[0m in \u001b[0;36mfit\u001b[0;34m(self, x, y, batch_size, epochs, verbose, callbacks, validation_split, validation_data, shuffle, class_weight, sample_weight, initial_epoch, steps_per_epoch, validation_steps, validation_batch_size, validation_freq, max_queue_size, workers, use_multiprocessing)\u001b[0m\n\u001b[1;32m   1182\u001b[0m                 _r=1):\n\u001b[1;32m   1183\u001b[0m               \u001b[0mcallbacks\u001b[0m\u001b[0;34m.\u001b[0m\u001b[0mon_train_batch_begin\u001b[0m\u001b[0;34m(\u001b[0m\u001b[0mstep\u001b[0m\u001b[0;34m)\u001b[0m\u001b[0;34m\u001b[0m\u001b[0;34m\u001b[0m\u001b[0m\n\u001b[0;32m-> 1184\u001b[0;31m               \u001b[0mtmp_logs\u001b[0m \u001b[0;34m=\u001b[0m \u001b[0mself\u001b[0m\u001b[0;34m.\u001b[0m\u001b[0mtrain_function\u001b[0m\u001b[0;34m(\u001b[0m\u001b[0miterator\u001b[0m\u001b[0;34m)\u001b[0m\u001b[0;34m\u001b[0m\u001b[0;34m\u001b[0m\u001b[0m\n\u001b[0m\u001b[1;32m   1185\u001b[0m               \u001b[0;32mif\u001b[0m \u001b[0mdata_handler\u001b[0m\u001b[0;34m.\u001b[0m\u001b[0mshould_sync\u001b[0m\u001b[0;34m:\u001b[0m\u001b[0;34m\u001b[0m\u001b[0;34m\u001b[0m\u001b[0m\n\u001b[1;32m   1186\u001b[0m                 \u001b[0mcontext\u001b[0m\u001b[0;34m.\u001b[0m\u001b[0masync_wait\u001b[0m\u001b[0;34m(\u001b[0m\u001b[0;34m)\u001b[0m\u001b[0;34m\u001b[0m\u001b[0;34m\u001b[0m\u001b[0m\n",
            "\u001b[0;32m/usr/local/lib/python3.7/dist-packages/tensorflow/python/eager/def_function.py\u001b[0m in \u001b[0;36m__call__\u001b[0;34m(self, *args, **kwds)\u001b[0m\n\u001b[1;32m    883\u001b[0m \u001b[0;34m\u001b[0m\u001b[0m\n\u001b[1;32m    884\u001b[0m       \u001b[0;32mwith\u001b[0m \u001b[0mOptionalXlaContext\u001b[0m\u001b[0;34m(\u001b[0m\u001b[0mself\u001b[0m\u001b[0;34m.\u001b[0m\u001b[0m_jit_compile\u001b[0m\u001b[0;34m)\u001b[0m\u001b[0;34m:\u001b[0m\u001b[0;34m\u001b[0m\u001b[0;34m\u001b[0m\u001b[0m\n\u001b[0;32m--> 885\u001b[0;31m         \u001b[0mresult\u001b[0m \u001b[0;34m=\u001b[0m \u001b[0mself\u001b[0m\u001b[0;34m.\u001b[0m\u001b[0m_call\u001b[0m\u001b[0;34m(\u001b[0m\u001b[0;34m*\u001b[0m\u001b[0margs\u001b[0m\u001b[0;34m,\u001b[0m \u001b[0;34m**\u001b[0m\u001b[0mkwds\u001b[0m\u001b[0;34m)\u001b[0m\u001b[0;34m\u001b[0m\u001b[0;34m\u001b[0m\u001b[0m\n\u001b[0m\u001b[1;32m    886\u001b[0m \u001b[0;34m\u001b[0m\u001b[0m\n\u001b[1;32m    887\u001b[0m       \u001b[0mnew_tracing_count\u001b[0m \u001b[0;34m=\u001b[0m \u001b[0mself\u001b[0m\u001b[0;34m.\u001b[0m\u001b[0mexperimental_get_tracing_count\u001b[0m\u001b[0;34m(\u001b[0m\u001b[0;34m)\u001b[0m\u001b[0;34m\u001b[0m\u001b[0;34m\u001b[0m\u001b[0m\n",
            "\u001b[0;32m/usr/local/lib/python3.7/dist-packages/tensorflow/python/eager/def_function.py\u001b[0m in \u001b[0;36m_call\u001b[0;34m(self, *args, **kwds)\u001b[0m\n\u001b[1;32m    915\u001b[0m       \u001b[0;31m# In this case we have created variables on the first call, so we run the\u001b[0m\u001b[0;34m\u001b[0m\u001b[0;34m\u001b[0m\u001b[0;34m\u001b[0m\u001b[0m\n\u001b[1;32m    916\u001b[0m       \u001b[0;31m# defunned version which is guaranteed to never create variables.\u001b[0m\u001b[0;34m\u001b[0m\u001b[0;34m\u001b[0m\u001b[0;34m\u001b[0m\u001b[0m\n\u001b[0;32m--> 917\u001b[0;31m       \u001b[0;32mreturn\u001b[0m \u001b[0mself\u001b[0m\u001b[0;34m.\u001b[0m\u001b[0m_stateless_fn\u001b[0m\u001b[0;34m(\u001b[0m\u001b[0;34m*\u001b[0m\u001b[0margs\u001b[0m\u001b[0;34m,\u001b[0m \u001b[0;34m**\u001b[0m\u001b[0mkwds\u001b[0m\u001b[0;34m)\u001b[0m  \u001b[0;31m# pylint: disable=not-callable\u001b[0m\u001b[0;34m\u001b[0m\u001b[0;34m\u001b[0m\u001b[0m\n\u001b[0m\u001b[1;32m    918\u001b[0m     \u001b[0;32melif\u001b[0m \u001b[0mself\u001b[0m\u001b[0;34m.\u001b[0m\u001b[0m_stateful_fn\u001b[0m \u001b[0;32mis\u001b[0m \u001b[0;32mnot\u001b[0m \u001b[0;32mNone\u001b[0m\u001b[0;34m:\u001b[0m\u001b[0;34m\u001b[0m\u001b[0;34m\u001b[0m\u001b[0m\n\u001b[1;32m    919\u001b[0m       \u001b[0;31m# Release the lock early so that multiple threads can perform the call\u001b[0m\u001b[0;34m\u001b[0m\u001b[0;34m\u001b[0m\u001b[0;34m\u001b[0m\u001b[0m\n",
            "\u001b[0;32m/usr/local/lib/python3.7/dist-packages/tensorflow/python/eager/function.py\u001b[0m in \u001b[0;36m__call__\u001b[0;34m(self, *args, **kwargs)\u001b[0m\n\u001b[1;32m   3038\u001b[0m        filtered_flat_args) = self._maybe_define_function(args, kwargs)\n\u001b[1;32m   3039\u001b[0m     return graph_function._call_flat(\n\u001b[0;32m-> 3040\u001b[0;31m         filtered_flat_args, captured_inputs=graph_function.captured_inputs)  # pylint: disable=protected-access\n\u001b[0m\u001b[1;32m   3041\u001b[0m \u001b[0;34m\u001b[0m\u001b[0m\n\u001b[1;32m   3042\u001b[0m   \u001b[0;34m@\u001b[0m\u001b[0mproperty\u001b[0m\u001b[0;34m\u001b[0m\u001b[0;34m\u001b[0m\u001b[0m\n",
            "\u001b[0;32m/usr/local/lib/python3.7/dist-packages/tensorflow/python/eager/function.py\u001b[0m in \u001b[0;36m_call_flat\u001b[0;34m(self, args, captured_inputs, cancellation_manager)\u001b[0m\n\u001b[1;32m   1962\u001b[0m       \u001b[0;31m# No tape is watching; skip to running the function.\u001b[0m\u001b[0;34m\u001b[0m\u001b[0;34m\u001b[0m\u001b[0;34m\u001b[0m\u001b[0m\n\u001b[1;32m   1963\u001b[0m       return self._build_call_outputs(self._inference_function.call(\n\u001b[0;32m-> 1964\u001b[0;31m           ctx, args, cancellation_manager=cancellation_manager))\n\u001b[0m\u001b[1;32m   1965\u001b[0m     forward_backward = self._select_forward_and_backward_functions(\n\u001b[1;32m   1966\u001b[0m         \u001b[0margs\u001b[0m\u001b[0;34m,\u001b[0m\u001b[0;34m\u001b[0m\u001b[0;34m\u001b[0m\u001b[0m\n",
            "\u001b[0;32m/usr/local/lib/python3.7/dist-packages/tensorflow/python/eager/function.py\u001b[0m in \u001b[0;36mcall\u001b[0;34m(self, ctx, args, cancellation_manager)\u001b[0m\n\u001b[1;32m    594\u001b[0m               \u001b[0minputs\u001b[0m\u001b[0;34m=\u001b[0m\u001b[0margs\u001b[0m\u001b[0;34m,\u001b[0m\u001b[0;34m\u001b[0m\u001b[0;34m\u001b[0m\u001b[0m\n\u001b[1;32m    595\u001b[0m               \u001b[0mattrs\u001b[0m\u001b[0;34m=\u001b[0m\u001b[0mattrs\u001b[0m\u001b[0;34m,\u001b[0m\u001b[0;34m\u001b[0m\u001b[0;34m\u001b[0m\u001b[0m\n\u001b[0;32m--> 596\u001b[0;31m               ctx=ctx)\n\u001b[0m\u001b[1;32m    597\u001b[0m         \u001b[0;32melse\u001b[0m\u001b[0;34m:\u001b[0m\u001b[0;34m\u001b[0m\u001b[0;34m\u001b[0m\u001b[0m\n\u001b[1;32m    598\u001b[0m           outputs = execute.execute_with_cancellation(\n",
            "\u001b[0;32m/usr/local/lib/python3.7/dist-packages/tensorflow/python/eager/execute.py\u001b[0m in \u001b[0;36mquick_execute\u001b[0;34m(op_name, num_outputs, inputs, attrs, ctx, name)\u001b[0m\n\u001b[1;32m     58\u001b[0m     \u001b[0mctx\u001b[0m\u001b[0;34m.\u001b[0m\u001b[0mensure_initialized\u001b[0m\u001b[0;34m(\u001b[0m\u001b[0;34m)\u001b[0m\u001b[0;34m\u001b[0m\u001b[0;34m\u001b[0m\u001b[0m\n\u001b[1;32m     59\u001b[0m     tensors = pywrap_tfe.TFE_Py_Execute(ctx._handle, device_name, op_name,\n\u001b[0;32m---> 60\u001b[0;31m                                         inputs, attrs, num_outputs)\n\u001b[0m\u001b[1;32m     61\u001b[0m   \u001b[0;32mexcept\u001b[0m \u001b[0mcore\u001b[0m\u001b[0;34m.\u001b[0m\u001b[0m_NotOkStatusException\u001b[0m \u001b[0;32mas\u001b[0m \u001b[0me\u001b[0m\u001b[0;34m:\u001b[0m\u001b[0;34m\u001b[0m\u001b[0;34m\u001b[0m\u001b[0m\n\u001b[1;32m     62\u001b[0m     \u001b[0;32mif\u001b[0m \u001b[0mname\u001b[0m \u001b[0;32mis\u001b[0m \u001b[0;32mnot\u001b[0m \u001b[0;32mNone\u001b[0m\u001b[0;34m:\u001b[0m\u001b[0;34m\u001b[0m\u001b[0;34m\u001b[0m\u001b[0m\n",
            "\u001b[0;31mKeyboardInterrupt\u001b[0m: "
          ]
        }
      ]
    },
    {
      "cell_type": "code",
      "metadata": {
        "id": "ExcbBa-v5vBK"
      },
      "source": [
        "plot_curva_vies_variancia(curvas_vies_variancia, lista_loss_ref, curvas_vies_variancia_media, figsize = [6, 2])"
      ],
      "execution_count": null,
      "outputs": []
    },
    {
      "cell_type": "markdown",
      "metadata": {
        "id": "pUFIFF8gGg_Y"
      },
      "source": [
        "# Avaliação"
      ]
    },
    {
      "cell_type": "code",
      "metadata": {
        "id": "6r287MuN9-O_"
      },
      "source": [
        "def calcula_loss_norm(func_loss, autoencoder, X, medias, desvios):\n",
        "    X_norm = norm(X, medias, desvios)\n",
        "    loss_ref = func_loss(X_norm, np.zeros(shape = X.shape)).numpy()\n",
        "    pred = autoencoder.predict(X_norm)\n",
        "    loss = func_loss(X_norm, pred).numpy()\n",
        "    return 1 - loss/loss_ref"
      ],
      "execution_count": null,
      "outputs": []
    },
    {
      "cell_type": "code",
      "metadata": {
        "id": "rV1giXXgJrRT"
      },
      "source": [
        "dict_loss_norm = {\n",
        "          'Treino': calcula_loss_norm(func_loss, autoencoder, df.loc[mask_treino, features].values, medias, desvios),\n",
        "          'Teste': calcula_loss_norm(func_loss, autoencoder, df.loc[mask_teste, features].values, medias, desvios)\n",
        "          }"
      ],
      "execution_count": null,
      "outputs": []
    },
    {
      "cell_type": "code",
      "metadata": {
        "colab": {
          "base_uri": "https://localhost:8080/",
          "height": 110
        },
        "id": "VRQCr7c_OEcd",
        "outputId": "1c673aa1-3aec-4266-8cb5-ee63f1f7451c"
      },
      "source": [
        "display(pd.DataFrame(pd.Series(dict_loss_norm)))"
      ],
      "execution_count": null,
      "outputs": [
        {
          "output_type": "display_data",
          "data": {
            "text/html": [
              "<div>\n",
              "<style scoped>\n",
              "    .dataframe tbody tr th:only-of-type {\n",
              "        vertical-align: middle;\n",
              "    }\n",
              "\n",
              "    .dataframe tbody tr th {\n",
              "        vertical-align: top;\n",
              "    }\n",
              "\n",
              "    .dataframe thead th {\n",
              "        text-align: right;\n",
              "    }\n",
              "</style>\n",
              "<table border=\"1\" class=\"dataframe\">\n",
              "  <thead>\n",
              "    <tr style=\"text-align: right;\">\n",
              "      <th></th>\n",
              "      <th>0</th>\n",
              "    </tr>\n",
              "  </thead>\n",
              "  <tbody>\n",
              "    <tr>\n",
              "      <th>Treino</th>\n",
              "      <td>0.198937</td>\n",
              "    </tr>\n",
              "    <tr>\n",
              "      <th>Teste</th>\n",
              "      <td>0.195826</td>\n",
              "    </tr>\n",
              "  </tbody>\n",
              "</table>\n",
              "</div>"
            ],
            "text/plain": [
              "               0\n",
              "Treino  0.198937\n",
              "Teste   0.195826"
            ]
          },
          "metadata": {}
        }
      ]
    },
    {
      "cell_type": "code",
      "metadata": {
        "id": "yrTVpuVensUy"
      },
      "source": [
        "def plot_loss_norm_temporal(df_loss_norm_tempo, corta_tempo, figsize = [6, 4]):\n",
        "    paleta_cores = sns.color_palette(\"colorblind\")\n",
        "    with sns.axes_style(\"whitegrid\"):\n",
        "        fig, ax = plt.subplots(1, 1, figsize = figsize)\n",
        "        i = 0\n",
        "        for conjunto in ['Treino', 'Teste']:\n",
        "            df_aux = df_loss_norm_tempo.loc[df_loss_norm_tempo.index.get_level_values(0) == conjunto, :]\n",
        "            tempo_disc = df_aux.index.get_level_values(1)\n",
        "            map_tempo = dict(zip(np.arange(corta_tempo.strings_intervalos_discretizacao().size), corta_tempo.strings_intervalos_discretizacao()))\n",
        "            tempo = [map_tempo[v] for v in tempo_disc]\n",
        "            loss_norm = df_aux['Loss_Norm']\n",
        "            ax.plot(tempo, loss_norm, 'o-', color = paleta_cores[i], label = conjunto)\n",
        "            i = i + 1\n",
        "        ax.set_xlabel('Tempo')\n",
        "        ax.set_ylabel('Loss Norm.')\n",
        "        ax.legend(bbox_to_anchor=(1.05, 1), loc='upper left')\n",
        "        ax.set_ylim([0, 1])\n",
        "        plt.xticks(rotation = 90)\n",
        "        plt.show()"
      ],
      "execution_count": null,
      "outputs": []
    },
    {
      "cell_type": "code",
      "metadata": {
        "id": "OibLxPC9jl_j"
      },
      "source": [
        "df_aval = df.loc[:, features].copy()\n",
        "corta_tempo = trf.CortaIntervalosQuasiUniforme(df[coluna_temporal].values, num_div = 50)\n",
        "df_aval['Tempo_Disc'] = corta_tempo.aplica_discretizacao(df[coluna_temporal].values)\n",
        "df_aval['Conjunto'] = np.nan\n",
        "df_aval.loc[mask_treino, 'Conjunto'] = 'Treino'\n",
        "df_aval.loc[mask_teste, 'Conjunto'] = 'Teste'\n",
        "df_loss_norm_tempo = pd.DataFrame(df_aval.groupby(['Conjunto', 'Tempo_Disc']).apply(lambda x: calcula_loss_norm(func_loss, autoencoder, x.loc[:, features].values, medias, desvios)), columns = ['Loss_Norm'])"
      ],
      "execution_count": null,
      "outputs": []
    },
    {
      "cell_type": "code",
      "metadata": {
        "colab": {
          "base_uri": "https://localhost:8080/",
          "height": 363
        },
        "id": "YfgNWHnJjdBc",
        "outputId": "efd63d23-aacd-403f-ef65-b09961b8e62a"
      },
      "source": [
        "plot_loss_norm_temporal(df_loss_norm_tempo, corta_tempo, figsize = [14, 4])"
      ],
      "execution_count": null,
      "outputs": [
        {
          "output_type": "display_data",
          "data": {
            "image/png": "[encoded data removed]",
            "text/plain": [
              "<Figure size 1008x288 with 1 Axes>"
            ]
          },
          "metadata": {}
        }
      ]
    },
    {
      "cell_type": "code",
      "metadata": {
        "id": "S7pUITaLHnOs"
      },
      "source": [
        ""
      ],
      "execution_count": null,
      "outputs": []
    }
  ]
}